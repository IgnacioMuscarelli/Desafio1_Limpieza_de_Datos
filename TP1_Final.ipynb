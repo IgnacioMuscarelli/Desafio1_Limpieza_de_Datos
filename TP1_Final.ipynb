{
 "cells": [
  {
   "cell_type": "markdown",
   "metadata": {},
   "source": [
    "## Desafio N° 1\n",
    "#### Análisis exploratorio de un dataset de precios de propiedades.\n"
   ]
  },
  {
   "cell_type": "markdown",
   "metadata": {},
   "source": [
    "1. Importamos las librerías que vamos a utilizar."
   ]
  },
  {
   "cell_type": "code",
   "execution_count": 2,
   "metadata": {},
   "outputs": [],
   "source": [
    "import pandas as pd\n",
    "import numpy as np\n",
    "import re"
   ]
  },
  {
   "cell_type": "markdown",
   "metadata": {},
   "source": [
    "2. Leemos el archivo 'properati.csv' con pd.read_csv.\n",
    "   Lo nombramos como variable data, y luego visualizamos con pd.head, \n",
    "   para poder ver cuales son algunas de las columnas de nuestra data."
   ]
  },
  {
   "cell_type": "code",
   "execution_count": 3,
   "metadata": {},
   "outputs": [
    {
     "data": {
      "text/html": [
       "<div>\n",
       "<style scoped>\n",
       "    .dataframe tbody tr th:only-of-type {\n",
       "        vertical-align: middle;\n",
       "    }\n",
       "\n",
       "    .dataframe tbody tr th {\n",
       "        vertical-align: top;\n",
       "    }\n",
       "\n",
       "    .dataframe thead th {\n",
       "        text-align: right;\n",
       "    }\n",
       "</style>\n",
       "<table border=\"1\" class=\"dataframe\">\n",
       "  <thead>\n",
       "    <tr style=\"text-align: right;\">\n",
       "      <th></th>\n",
       "      <th>Unnamed: 0</th>\n",
       "      <th>operation</th>\n",
       "      <th>property_type</th>\n",
       "      <th>place_name</th>\n",
       "      <th>place_with_parent_names</th>\n",
       "      <th>country_name</th>\n",
       "      <th>state_name</th>\n",
       "      <th>geonames_id</th>\n",
       "      <th>lat-lon</th>\n",
       "      <th>lat</th>\n",
       "      <th>...</th>\n",
       "      <th>surface_covered_in_m2</th>\n",
       "      <th>price_usd_per_m2</th>\n",
       "      <th>price_per_m2</th>\n",
       "      <th>floor</th>\n",
       "      <th>rooms</th>\n",
       "      <th>expenses</th>\n",
       "      <th>properati_url</th>\n",
       "      <th>description</th>\n",
       "      <th>title</th>\n",
       "      <th>image_thumbnail</th>\n",
       "    </tr>\n",
       "  </thead>\n",
       "  <tbody>\n",
       "    <tr>\n",
       "      <th>0</th>\n",
       "      <td>0</td>\n",
       "      <td>sell</td>\n",
       "      <td>PH</td>\n",
       "      <td>Mataderos</td>\n",
       "      <td>|Argentina|Capital Federal|Mataderos|</td>\n",
       "      <td>Argentina</td>\n",
       "      <td>Capital Federal</td>\n",
       "      <td>3430787.0</td>\n",
       "      <td>-34.6618237,-58.5088387</td>\n",
       "      <td>-34.661824</td>\n",
       "      <td>...</td>\n",
       "      <td>40.0</td>\n",
       "      <td>1127.272727</td>\n",
       "      <td>1550.000000</td>\n",
       "      <td>NaN</td>\n",
       "      <td>NaN</td>\n",
       "      <td>NaN</td>\n",
       "      <td>http://www.properati.com.ar/15bo8_venta_ph_mat...</td>\n",
       "      <td>2 AMBIENTES TIPO CASA PLANTA BAJA POR PASILLO,...</td>\n",
       "      <td>2 AMB TIPO CASA SIN EXPENSAS EN PB</td>\n",
       "      <td>https://thumbs4.properati.com/8/BluUYiHJLhgIIK...</td>\n",
       "    </tr>\n",
       "    <tr>\n",
       "      <th>1</th>\n",
       "      <td>1</td>\n",
       "      <td>sell</td>\n",
       "      <td>apartment</td>\n",
       "      <td>La Plata</td>\n",
       "      <td>|Argentina|Bs.As. G.B.A. Zona Sur|La Plata|</td>\n",
       "      <td>Argentina</td>\n",
       "      <td>Bs.As. G.B.A. Zona Sur</td>\n",
       "      <td>3432039.0</td>\n",
       "      <td>-34.9038831,-57.9643295</td>\n",
       "      <td>-34.903883</td>\n",
       "      <td>...</td>\n",
       "      <td>NaN</td>\n",
       "      <td>NaN</td>\n",
       "      <td>NaN</td>\n",
       "      <td>NaN</td>\n",
       "      <td>NaN</td>\n",
       "      <td>NaN</td>\n",
       "      <td>http://www.properati.com.ar/15bob_venta_depart...</td>\n",
       "      <td>Venta de departamento en décimo piso al frente...</td>\n",
       "      <td>VENTA Depto 2 dorm. a estrenar 7 e/ 36 y 37   ...</td>\n",
       "      <td>https://thumbs4.properati.com/7/ikpVBu2ztHA7jv...</td>\n",
       "    </tr>\n",
       "    <tr>\n",
       "      <th>2</th>\n",
       "      <td>2</td>\n",
       "      <td>sell</td>\n",
       "      <td>apartment</td>\n",
       "      <td>Mataderos</td>\n",
       "      <td>|Argentina|Capital Federal|Mataderos|</td>\n",
       "      <td>Argentina</td>\n",
       "      <td>Capital Federal</td>\n",
       "      <td>3430787.0</td>\n",
       "      <td>-34.6522615,-58.5229825</td>\n",
       "      <td>-34.652262</td>\n",
       "      <td>...</td>\n",
       "      <td>55.0</td>\n",
       "      <td>1309.090909</td>\n",
       "      <td>1309.090909</td>\n",
       "      <td>NaN</td>\n",
       "      <td>NaN</td>\n",
       "      <td>NaN</td>\n",
       "      <td>http://www.properati.com.ar/15bod_venta_depart...</td>\n",
       "      <td>2 AMBIENTES 3ER PISO LATERAL LIVING COMEDOR AM...</td>\n",
       "      <td>2 AMB 3ER PISO CON ASCENSOR APTO CREDITO</td>\n",
       "      <td>https://thumbs4.properati.com/5/SXKr34F_IwG3W_...</td>\n",
       "    </tr>\n",
       "    <tr>\n",
       "      <th>3</th>\n",
       "      <td>3</td>\n",
       "      <td>sell</td>\n",
       "      <td>PH</td>\n",
       "      <td>Liniers</td>\n",
       "      <td>|Argentina|Capital Federal|Liniers|</td>\n",
       "      <td>Argentina</td>\n",
       "      <td>Capital Federal</td>\n",
       "      <td>3431333.0</td>\n",
       "      <td>-34.6477969,-58.5164244</td>\n",
       "      <td>-34.647797</td>\n",
       "      <td>...</td>\n",
       "      <td>NaN</td>\n",
       "      <td>NaN</td>\n",
       "      <td>NaN</td>\n",
       "      <td>NaN</td>\n",
       "      <td>NaN</td>\n",
       "      <td>NaN</td>\n",
       "      <td>http://www.properati.com.ar/15boh_venta_ph_lin...</td>\n",
       "      <td>PH 3 ambientes con patio. Hay 3 deptos en lote...</td>\n",
       "      <td>PH 3 amb. cfte. reciclado</td>\n",
       "      <td>https://thumbs4.properati.com/3/DgIfX-85Mog5SP...</td>\n",
       "    </tr>\n",
       "    <tr>\n",
       "      <th>4</th>\n",
       "      <td>4</td>\n",
       "      <td>sell</td>\n",
       "      <td>apartment</td>\n",
       "      <td>Centro</td>\n",
       "      <td>|Argentina|Buenos Aires Costa Atlántica|Mar de...</td>\n",
       "      <td>Argentina</td>\n",
       "      <td>Buenos Aires Costa Atlántica</td>\n",
       "      <td>3435548.0</td>\n",
       "      <td>-38.0026256,-57.5494468</td>\n",
       "      <td>-38.002626</td>\n",
       "      <td>...</td>\n",
       "      <td>35.0</td>\n",
       "      <td>1828.571429</td>\n",
       "      <td>1828.571429</td>\n",
       "      <td>NaN</td>\n",
       "      <td>NaN</td>\n",
       "      <td>NaN</td>\n",
       "      <td>http://www.properati.com.ar/15bok_venta_depart...</td>\n",
       "      <td>DEPARTAMENTO CON FANTÁSTICA ILUMINACIÓN NATURA...</td>\n",
       "      <td>DEPTO 2 AMB AL CONTRAFRENTE ZONA CENTRO/PLAZA ...</td>\n",
       "      <td>https://thumbs4.properati.com/5/xrRqlNcSI_vs-f...</td>\n",
       "    </tr>\n",
       "  </tbody>\n",
       "</table>\n",
       "<p>5 rows × 26 columns</p>\n",
       "</div>"
      ],
      "text/plain": [
       "   Unnamed: 0 operation property_type place_name  \\\n",
       "0           0      sell            PH  Mataderos   \n",
       "1           1      sell     apartment   La Plata   \n",
       "2           2      sell     apartment  Mataderos   \n",
       "3           3      sell            PH    Liniers   \n",
       "4           4      sell     apartment     Centro   \n",
       "\n",
       "                             place_with_parent_names country_name  \\\n",
       "0              |Argentina|Capital Federal|Mataderos|    Argentina   \n",
       "1        |Argentina|Bs.As. G.B.A. Zona Sur|La Plata|    Argentina   \n",
       "2              |Argentina|Capital Federal|Mataderos|    Argentina   \n",
       "3                |Argentina|Capital Federal|Liniers|    Argentina   \n",
       "4  |Argentina|Buenos Aires Costa Atlántica|Mar de...    Argentina   \n",
       "\n",
       "                     state_name  geonames_id                  lat-lon  \\\n",
       "0               Capital Federal    3430787.0  -34.6618237,-58.5088387   \n",
       "1        Bs.As. G.B.A. Zona Sur    3432039.0  -34.9038831,-57.9643295   \n",
       "2               Capital Federal    3430787.0  -34.6522615,-58.5229825   \n",
       "3               Capital Federal    3431333.0  -34.6477969,-58.5164244   \n",
       "4  Buenos Aires Costa Atlántica    3435548.0  -38.0026256,-57.5494468   \n",
       "\n",
       "         lat  ...  surface_covered_in_m2  price_usd_per_m2 price_per_m2  \\\n",
       "0 -34.661824  ...                   40.0       1127.272727  1550.000000   \n",
       "1 -34.903883  ...                    NaN               NaN          NaN   \n",
       "2 -34.652262  ...                   55.0       1309.090909  1309.090909   \n",
       "3 -34.647797  ...                    NaN               NaN          NaN   \n",
       "4 -38.002626  ...                   35.0       1828.571429  1828.571429   \n",
       "\n",
       "   floor  rooms  expenses                                      properati_url  \\\n",
       "0    NaN    NaN       NaN  http://www.properati.com.ar/15bo8_venta_ph_mat...   \n",
       "1    NaN    NaN       NaN  http://www.properati.com.ar/15bob_venta_depart...   \n",
       "2    NaN    NaN       NaN  http://www.properati.com.ar/15bod_venta_depart...   \n",
       "3    NaN    NaN       NaN  http://www.properati.com.ar/15boh_venta_ph_lin...   \n",
       "4    NaN    NaN       NaN  http://www.properati.com.ar/15bok_venta_depart...   \n",
       "\n",
       "                                         description  \\\n",
       "0  2 AMBIENTES TIPO CASA PLANTA BAJA POR PASILLO,...   \n",
       "1  Venta de departamento en décimo piso al frente...   \n",
       "2  2 AMBIENTES 3ER PISO LATERAL LIVING COMEDOR AM...   \n",
       "3  PH 3 ambientes con patio. Hay 3 deptos en lote...   \n",
       "4  DEPARTAMENTO CON FANTÁSTICA ILUMINACIÓN NATURA...   \n",
       "\n",
       "                                               title  \\\n",
       "0                 2 AMB TIPO CASA SIN EXPENSAS EN PB   \n",
       "1  VENTA Depto 2 dorm. a estrenar 7 e/ 36 y 37   ...   \n",
       "2           2 AMB 3ER PISO CON ASCENSOR APTO CREDITO   \n",
       "3                       PH 3 amb. cfte. reciclado      \n",
       "4  DEPTO 2 AMB AL CONTRAFRENTE ZONA CENTRO/PLAZA ...   \n",
       "\n",
       "                                     image_thumbnail  \n",
       "0  https://thumbs4.properati.com/8/BluUYiHJLhgIIK...  \n",
       "1  https://thumbs4.properati.com/7/ikpVBu2ztHA7jv...  \n",
       "2  https://thumbs4.properati.com/5/SXKr34F_IwG3W_...  \n",
       "3  https://thumbs4.properati.com/3/DgIfX-85Mog5SP...  \n",
       "4  https://thumbs4.properati.com/5/xrRqlNcSI_vs-f...  \n",
       "\n",
       "[5 rows x 26 columns]"
      ]
     },
     "execution_count": 3,
     "metadata": {},
     "output_type": "execute_result"
    }
   ],
   "source": [
    "data_location=\"properati.csv\"\n",
    "data=pd.read_csv(data_location,\",\")\n",
    "data.head()"
   ]
  },
  {
   "cell_type": "markdown",
   "metadata": {},
   "source": [
    "3. Identificamos todas las columnas, para entender de  que manera está organizado nuestro DataFrame."
   ]
  },
  {
   "cell_type": "code",
   "execution_count": 4,
   "metadata": {},
   "outputs": [
    {
     "data": {
      "text/plain": [
       "Index(['Unnamed: 0', 'operation', 'property_type', 'place_name',\n",
       "       'place_with_parent_names', 'country_name', 'state_name', 'geonames_id',\n",
       "       'lat-lon', 'lat', 'lon', 'price', 'currency',\n",
       "       'price_aprox_local_currency', 'price_aprox_usd', 'surface_total_in_m2',\n",
       "       'surface_covered_in_m2', 'price_usd_per_m2', 'price_per_m2', 'floor',\n",
       "       'rooms', 'expenses', 'properati_url', 'description', 'title',\n",
       "       'image_thumbnail'],\n",
       "      dtype='object')"
      ]
     },
     "execution_count": 4,
     "metadata": {},
     "output_type": "execute_result"
    }
   ],
   "source": [
    "data.columns"
   ]
  },
  {
   "cell_type": "markdown",
   "metadata": {},
   "source": [
    "4. Quitamos algunas de las columnas que no necesitamos.\n"
   ]
  },
  {
   "cell_type": "code",
   "execution_count": 5,
   "metadata": {
    "scrolled": true
   },
   "outputs": [
    {
     "data": {
      "text/html": [
       "<div>\n",
       "<style scoped>\n",
       "    .dataframe tbody tr th:only-of-type {\n",
       "        vertical-align: middle;\n",
       "    }\n",
       "\n",
       "    .dataframe tbody tr th {\n",
       "        vertical-align: top;\n",
       "    }\n",
       "\n",
       "    .dataframe thead th {\n",
       "        text-align: right;\n",
       "    }\n",
       "</style>\n",
       "<table border=\"1\" class=\"dataframe\">\n",
       "  <thead>\n",
       "    <tr style=\"text-align: right;\">\n",
       "      <th></th>\n",
       "      <th>operation</th>\n",
       "      <th>property_type</th>\n",
       "      <th>place_name</th>\n",
       "      <th>place_with_parent_names</th>\n",
       "      <th>state_name</th>\n",
       "      <th>price</th>\n",
       "      <th>currency</th>\n",
       "      <th>price_aprox_local_currency</th>\n",
       "      <th>price_aprox_usd</th>\n",
       "      <th>surface_total_in_m2</th>\n",
       "      <th>surface_covered_in_m2</th>\n",
       "      <th>price_usd_per_m2</th>\n",
       "      <th>price_per_m2</th>\n",
       "    </tr>\n",
       "  </thead>\n",
       "  <tbody>\n",
       "    <tr>\n",
       "      <th>0</th>\n",
       "      <td>sell</td>\n",
       "      <td>PH</td>\n",
       "      <td>Mataderos</td>\n",
       "      <td>|Argentina|Capital Federal|Mataderos|</td>\n",
       "      <td>Capital Federal</td>\n",
       "      <td>62000.0</td>\n",
       "      <td>USD</td>\n",
       "      <td>1093959.0</td>\n",
       "      <td>62000.0</td>\n",
       "      <td>55.0</td>\n",
       "      <td>40.0</td>\n",
       "      <td>1127.272727</td>\n",
       "      <td>1550.000000</td>\n",
       "    </tr>\n",
       "    <tr>\n",
       "      <th>1</th>\n",
       "      <td>sell</td>\n",
       "      <td>apartment</td>\n",
       "      <td>La Plata</td>\n",
       "      <td>|Argentina|Bs.As. G.B.A. Zona Sur|La Plata|</td>\n",
       "      <td>Bs.As. G.B.A. Zona Sur</td>\n",
       "      <td>150000.0</td>\n",
       "      <td>USD</td>\n",
       "      <td>2646675.0</td>\n",
       "      <td>150000.0</td>\n",
       "      <td>NaN</td>\n",
       "      <td>NaN</td>\n",
       "      <td>NaN</td>\n",
       "      <td>NaN</td>\n",
       "    </tr>\n",
       "    <tr>\n",
       "      <th>2</th>\n",
       "      <td>sell</td>\n",
       "      <td>apartment</td>\n",
       "      <td>Mataderos</td>\n",
       "      <td>|Argentina|Capital Federal|Mataderos|</td>\n",
       "      <td>Capital Federal</td>\n",
       "      <td>72000.0</td>\n",
       "      <td>USD</td>\n",
       "      <td>1270404.0</td>\n",
       "      <td>72000.0</td>\n",
       "      <td>55.0</td>\n",
       "      <td>55.0</td>\n",
       "      <td>1309.090909</td>\n",
       "      <td>1309.090909</td>\n",
       "    </tr>\n",
       "    <tr>\n",
       "      <th>3</th>\n",
       "      <td>sell</td>\n",
       "      <td>PH</td>\n",
       "      <td>Liniers</td>\n",
       "      <td>|Argentina|Capital Federal|Liniers|</td>\n",
       "      <td>Capital Federal</td>\n",
       "      <td>95000.0</td>\n",
       "      <td>USD</td>\n",
       "      <td>1676227.5</td>\n",
       "      <td>95000.0</td>\n",
       "      <td>NaN</td>\n",
       "      <td>NaN</td>\n",
       "      <td>NaN</td>\n",
       "      <td>NaN</td>\n",
       "    </tr>\n",
       "    <tr>\n",
       "      <th>4</th>\n",
       "      <td>sell</td>\n",
       "      <td>apartment</td>\n",
       "      <td>Centro</td>\n",
       "      <td>|Argentina|Buenos Aires Costa Atlántica|Mar de...</td>\n",
       "      <td>Buenos Aires Costa Atlántica</td>\n",
       "      <td>64000.0</td>\n",
       "      <td>USD</td>\n",
       "      <td>1129248.0</td>\n",
       "      <td>64000.0</td>\n",
       "      <td>35.0</td>\n",
       "      <td>35.0</td>\n",
       "      <td>1828.571429</td>\n",
       "      <td>1828.571429</td>\n",
       "    </tr>\n",
       "  </tbody>\n",
       "</table>\n",
       "</div>"
      ],
      "text/plain": [
       "  operation property_type place_name  \\\n",
       "0      sell            PH  Mataderos   \n",
       "1      sell     apartment   La Plata   \n",
       "2      sell     apartment  Mataderos   \n",
       "3      sell            PH    Liniers   \n",
       "4      sell     apartment     Centro   \n",
       "\n",
       "                             place_with_parent_names  \\\n",
       "0              |Argentina|Capital Federal|Mataderos|   \n",
       "1        |Argentina|Bs.As. G.B.A. Zona Sur|La Plata|   \n",
       "2              |Argentina|Capital Federal|Mataderos|   \n",
       "3                |Argentina|Capital Federal|Liniers|   \n",
       "4  |Argentina|Buenos Aires Costa Atlántica|Mar de...   \n",
       "\n",
       "                     state_name     price currency  \\\n",
       "0               Capital Federal   62000.0      USD   \n",
       "1        Bs.As. G.B.A. Zona Sur  150000.0      USD   \n",
       "2               Capital Federal   72000.0      USD   \n",
       "3               Capital Federal   95000.0      USD   \n",
       "4  Buenos Aires Costa Atlántica   64000.0      USD   \n",
       "\n",
       "   price_aprox_local_currency  price_aprox_usd  surface_total_in_m2  \\\n",
       "0                   1093959.0          62000.0                 55.0   \n",
       "1                   2646675.0         150000.0                  NaN   \n",
       "2                   1270404.0          72000.0                 55.0   \n",
       "3                   1676227.5          95000.0                  NaN   \n",
       "4                   1129248.0          64000.0                 35.0   \n",
       "\n",
       "   surface_covered_in_m2  price_usd_per_m2  price_per_m2  \n",
       "0                   40.0       1127.272727   1550.000000  \n",
       "1                    NaN               NaN           NaN  \n",
       "2                   55.0       1309.090909   1309.090909  \n",
       "3                    NaN               NaN           NaN  \n",
       "4                   35.0       1828.571429   1828.571429  "
      ]
     },
     "execution_count": 5,
     "metadata": {},
     "output_type": "execute_result"
    }
   ],
   "source": [
    "data1=data.loc[:,['operation','property_type','place_name','place_with_parent_names','state_name','price','currency','price_aprox_local_currency','price_aprox_usd','surface_total_in_m2','surface_covered_in_m2','price_usd_per_m2','price_per_m2']]\n",
    "data1.head(5)"
   ]
  },
  {
   "cell_type": "markdown",
   "metadata": {},
   "source": [
    "4. Contamos cuantas propiedades por lugar hay en la columna 'place_name':\n"
   ]
  },
  {
   "cell_type": "code",
   "execution_count": 6,
   "metadata": {},
   "outputs": [
    {
     "data": {
      "text/plain": [
       "Córdoba            9254\n",
       "Rosario            8504\n",
       "Mar del Plata      6534\n",
       "Tigre              3324\n",
       "Nordelta           3315\n",
       "Belgrano           2992\n",
       "Palermo            2885\n",
       "La Plata           2534\n",
       "Caballito          2273\n",
       "Pilar              2228\n",
       "Villa Urquiza      1632\n",
       "Olivos             1590\n",
       "Recoleta           1547\n",
       "Lomas de Zamora    1529\n",
       "Flores             1354\n",
       "Ituzaingó          1340\n",
       "Villa Crespo       1331\n",
       "Capital Federal    1297\n",
       "San Telmo          1216\n",
       "Morón              1209\n",
       "Name: place_name, dtype: int64"
      ]
     },
     "execution_count": 6,
     "metadata": {},
     "output_type": "execute_result"
    }
   ],
   "source": [
    "data1.place_name.value_counts().head(20)"
   ]
  },
  {
   "cell_type": "markdown",
   "metadata": {},
   "source": [
    "5. Vemos que tipos de datos hay en cada columna para comprobar que los tipos de datos de cada columna esten correctos"
   ]
  },
  {
   "cell_type": "code",
   "execution_count": 7,
   "metadata": {},
   "outputs": [
    {
     "data": {
      "text/plain": [
       "operation                      object\n",
       "property_type                  object\n",
       "place_name                     object\n",
       "place_with_parent_names        object\n",
       "state_name                     object\n",
       "price                         float64\n",
       "currency                       object\n",
       "price_aprox_local_currency    float64\n",
       "price_aprox_usd               float64\n",
       "surface_total_in_m2           float64\n",
       "surface_covered_in_m2         float64\n",
       "price_usd_per_m2              float64\n",
       "price_per_m2                  float64\n",
       "dtype: object"
      ]
     },
     "execution_count": 7,
     "metadata": {},
     "output_type": "execute_result"
    }
   ],
   "source": [
    "data1.dtypes"
   ]
  },
  {
   "cell_type": "markdown",
   "metadata": {},
   "source": [
    "Vemos cual es el porcentaje de valores nulos en cada columna"
   ]
  },
  {
   "cell_type": "code",
   "execution_count": 8,
   "metadata": {},
   "outputs": [
    {
     "data": {
      "text/plain": [
       "operation                      0.000000\n",
       "property_type                  0.000000\n",
       "place_name                     0.018974\n",
       "place_with_parent_names        0.000000\n",
       "state_name                     0.000000\n",
       "price                         16.837156\n",
       "currency                      16.837981\n",
       "price_aprox_local_currency    16.837156\n",
       "price_aprox_usd               16.837156\n",
       "surface_total_in_m2           32.443491\n",
       "surface_covered_in_m2         16.422208\n",
       "price_usd_per_m2              43.394654\n",
       "price_per_m2                  27.686850\n",
       "dtype: float64"
      ]
     },
     "execution_count": 8,
     "metadata": {},
     "output_type": "execute_result"
    }
   ],
   "source": [
    "nulos = data1.isnull().sum()/data.shape[0]*100\n",
    "nulos"
   ]
  },
  {
   "cell_type": "markdown",
   "metadata": {},
   "source": [
    "Reemplazamos el valor de toda la columna place_name con el ultimo elemento de la columna place_with_parent_names asi esa columna pasa  a tener 0 registros nulos"
   ]
  },
  {
   "cell_type": "code",
   "execution_count": 9,
   "metadata": {},
   "outputs": [
    {
     "name": "stdout",
     "output_type": "stream",
     "text": [
      "0               [, Argentina, Capital Federal, Mataderos, ]\n",
      "1         [, Argentina, Bs.As. G.B.A. Zona Sur, La Plata, ]\n",
      "2               [, Argentina, Capital Federal, Mataderos, ]\n",
      "3                 [, Argentina, Capital Federal, Liniers, ]\n",
      "4         [, Argentina, Buenos Aires Costa Atlántica, Ma...\n",
      "                                ...                        \n",
      "121215           [, Argentina, Capital Federal, Belgrano, ]\n",
      "121216    [, Argentina, Bs.As. G.B.A. Zona Norte, San Is...\n",
      "121217      [, Argentina, Capital Federal, Villa Urquiza, ]\n",
      "121218    [, Argentina, Buenos Aires Costa Atlántica, Ma...\n",
      "121219                     [, Argentina, Capital Federal, ]\n",
      "Name: place_with_parent_names, Length: 121220, dtype: object\n"
     ]
    }
   ],
   "source": [
    "a=data1['place_with_parent_names'].apply(lambda x: re.split(\"\\|+\",x))\n",
    "print(a)"
   ]
  },
  {
   "cell_type": "markdown",
   "metadata": {},
   "source": [
    "Realizamos un regex para extraer información de la columna 'place_with_parent_names' a fin de identificar mejor de que lugar es cada propiedad.\n"
   ]
  },
  {
   "cell_type": "code",
   "execution_count": 10,
   "metadata": {},
   "outputs": [
    {
     "data": {
      "text/plain": [
       "0                      Capital Federal Mataderos\n",
       "1                Bs.As. G.B.A. Zona Sur La Plata\n",
       "2                      Capital Federal Mataderos\n",
       "3                        Capital Federal Liniers\n",
       "4     Buenos Aires Costa Atlántica Mar del Plata\n",
       "5                        Entre Ríos Gualeguaychú\n",
       "6         Bs.As. G.B.A. Zona Norte Vicente López\n",
       "7                       Capital Federal Belgrano\n",
       "8                       Capital Federal Belgrano\n",
       "9                               Santa Fe Rosario\n",
       "10                               Córdoba Córdoba\n",
       "11           Bs.As. G.B.A. Zona Norte San Miguel\n",
       "12           Bs.As. G.B.A. Zona Norte San Isidro\n",
       "13                       Capital Federal Palermo\n",
       "14                       Capital Federal Palermo\n",
       "15           Bs.As. G.B.A. Zona Norte San Miguel\n",
       "16                     Capital Federal Mataderos\n",
       "17                Bs.As. G.B.A. Zona Norte Tigre\n",
       "18                Bs.As. G.B.A. Zona Norte Tigre\n",
       "19                       Capital Federal Palermo\n",
       "Name: place_with_parent_names, dtype: object"
      ]
     },
     "execution_count": 10,
     "metadata": {},
     "output_type": "execute_result"
    }
   ],
   "source": [
    "h=data1['place_with_parent_names'].apply(lambda x: re.split(\"\\|+\",x)[2] if len(re.split(\"\\|+\",x))==4 else re.split(\"\\|+\",x)[2] + \" \" +  re.split(\"\\|+\",x)[3])\n",
    "data1['place_name']=h\n",
    "\n",
    "i=data1['place_with_parent_names'].apply(lambda x: re.split(\"\\|+\",x)[2] if len(re.split(\"\\|+\",x))<5 else re.split(\"\\|+\",x)[4]) \n",
    "data1['place_name_2']=i\n",
    "\n",
    "h.head(20)"
   ]
  },
  {
   "cell_type": "markdown",
   "metadata": {},
   "source": []
  },
  {
   "cell_type": "code",
   "execution_count": 11,
   "metadata": {},
   "outputs": [
    {
     "data": {
      "text/plain": [
       "Bs.As. G.B.A. Zona Norte Tigre                 8983\n",
       "Santa Fe Rosario                               8504\n",
       "Buenos Aires Costa Atlántica Mar del Plata     7710\n",
       "Córdoba Córdoba                                6606\n",
       "Capital Federal Palermo                        4083\n",
       "Bs.As. G.B.A. Zona Norte Vicente López         3663\n",
       "Bs.As. G.B.A. Zona Sur Lomas de Zamora         3470\n",
       "Bs.As. G.B.A. Zona Sur La Plata                3360\n",
       "Bs.As. G.B.A. Zona Norte Pilar                 3249\n",
       "Bs.As. G.B.A. Zona Norte San Isidro            3009\n",
       "Capital Federal Belgrano                       2992\n",
       "Córdoba                                        2648\n",
       "Bs.As. G.B.A. Zona Oeste Morón                 2645\n",
       "Bs.As. G.B.A. Zona Oeste La Matanza            2347\n",
       "Capital Federal Caballito                      2273\n",
       "Bs.As. G.B.A. Zona Norte Escobar               1909\n",
       "Bs.As. G.B.A. Zona Sur Lanús                   1816\n",
       "Capital Federal Villa Urquiza                  1629\n",
       "Bs.As. G.B.A. Zona Sur Almirante Brown         1603\n",
       "Bs.As. G.B.A. Zona Norte General San Martín    1582\n",
       "Name: place_name, dtype: int64"
      ]
     },
     "execution_count": 11,
     "metadata": {},
     "output_type": "execute_result"
    }
   ],
   "source": [
    "data1.place_name.value_counts().head(20)"
   ]
  },
  {
   "cell_type": "code",
   "execution_count": null,
   "metadata": {},
   "outputs": [],
   "source": []
  },
  {
   "cell_type": "code",
   "execution_count": 12,
   "metadata": {},
   "outputs": [
    {
     "data": {
      "text/plain": [
       "0"
      ]
     },
     "execution_count": 12,
     "metadata": {},
     "output_type": "execute_result"
    }
   ],
   "source": [
    "data1['place_name'].isnull().sum()"
   ]
  },
  {
   "cell_type": "code",
   "execution_count": 13,
   "metadata": {},
   "outputs": [
    {
     "data": {
      "text/plain": [
       "0                      Capital Federal Mataderos\n",
       "1                Bs.As. G.B.A. Zona Sur La Plata\n",
       "2                      Capital Federal Mataderos\n",
       "3                        Capital Federal Liniers\n",
       "4     Buenos Aires Costa Atlántica Mar del Plata\n",
       "5                        Entre Ríos Gualeguaychú\n",
       "6         Bs.As. G.B.A. Zona Norte Vicente López\n",
       "7                       Capital Federal Belgrano\n",
       "8                       Capital Federal Belgrano\n",
       "9                               Santa Fe Rosario\n",
       "10                               Córdoba Córdoba\n",
       "11           Bs.As. G.B.A. Zona Norte San Miguel\n",
       "12           Bs.As. G.B.A. Zona Norte San Isidro\n",
       "13                       Capital Federal Palermo\n",
       "14                       Capital Federal Palermo\n",
       "Name: place_name, dtype: object"
      ]
     },
     "execution_count": 13,
     "metadata": {},
     "output_type": "execute_result"
    }
   ],
   "source": [
    "data1['place_name'].head(15)"
   ]
  },
  {
   "cell_type": "markdown",
   "metadata": {},
   "source": [
    "## Disminuyo el porcentaje de nulos de la columna price_usd_per_m2\n",
    "\n",
    "Esta columna tiene ~43% de valores nulos, pero como se calcula dividiendo la columna \"price_aprox_usd\" con la columna \"surface_covered_in_m2\" y ambas columnas tienen ~16% de valores nulos, entonces puedo recalcular los valores de la columa price_usd_per_m2 haciendo esta division y asi pasaria a tener un % de valores nulos menor."
   ]
  },
  {
   "cell_type": "code",
   "execution_count": 14,
   "metadata": {},
   "outputs": [],
   "source": [
    "c=data1.loc[:,'price_aprox_usd']/data1.loc[:,'surface_covered_in_m2']\n",
    "\n",
    "data1['price_usd_per_m2']=c\n"
   ]
  },
  {
   "cell_type": "markdown",
   "metadata": {},
   "source": [
    "Verificamos que haya disminuido el porcentaje de la columna price_usd_per_m2.\n"
   ]
  },
  {
   "cell_type": "code",
   "execution_count": 15,
   "metadata": {},
   "outputs": [],
   "source": [
    "nulos = data1.isnull().sum()/data1.shape[0]*100"
   ]
  },
  {
   "cell_type": "markdown",
   "metadata": {},
   "source": [
    "Hay valores de la columna price_aprox_usd que son distintos de cero cuando los de la columna surface_covered_in_m2 son iguales a cero\n",
    "y viceversa, lo que deberia hacer ahora es agrupar, y calcular los promedios para poder imputar valores de manera especifica __a partir de una u otra columna__,\n",
    "y una vez hecho eso droppear el resto de valores nulos que no voy a poder reemplazar o bien reemplazar por el promedio de lo que tenga. "
   ]
  },
  {
   "cell_type": "code",
   "execution_count": 16,
   "metadata": {},
   "outputs": [
    {
     "data": {
      "text/plain": [
       "0                          Capital Federal Mataderos\n",
       "1                    Bs.As. G.B.A. Zona Sur La Plata\n",
       "2                          Capital Federal Mataderos\n",
       "3                            Capital Federal Liniers\n",
       "4         Buenos Aires Costa Atlántica Mar del Plata\n",
       "                             ...                    \n",
       "121215                      Capital Federal Belgrano\n",
       "121216           Bs.As. G.B.A. Zona Norte San Isidro\n",
       "121217                 Capital Federal Villa Urquiza\n",
       "121218    Buenos Aires Costa Atlántica Mar del Plata\n",
       "121219                               Capital Federal\n",
       "Name: place_name, Length: 121220, dtype: object"
      ]
     },
     "execution_count": 16,
     "metadata": {},
     "output_type": "execute_result"
    }
   ],
   "source": [
    "data1.head(200)\n",
    "data1[\"place_name\"]"
   ]
  },
  {
   "cell_type": "raw",
   "metadata": {},
   "source": [
    "Creamos mascara booleana para detectar barrios con menos de 10 propiedades."
   ]
  },
  {
   "cell_type": "code",
   "execution_count": 17,
   "metadata": {},
   "outputs": [
    {
     "data": {
      "text/plain": [
       "Laguna de los Padres                   1\n",
       "Villars                                1\n",
       "Jujuy                                  1\n",
       "Villa Centenario                       1\n",
       "Mi Refugio                             1\n",
       "Barrio Cerrado \"La Damasia\"            1\n",
       "Barrio Melazzi                         1\n",
       "Bernardino Rivadavia                   1\n",
       "La Herradura                           1\n",
       "Marina Del Sol (Sun's Marine)          1\n",
       "Jeppener                               1\n",
       "Juramento                              1\n",
       "General Belgrano                       1\n",
       "Materno                                1\n",
       "Barrio Cerrado Los Troncos             1\n",
       "Barrio San Marco                       1\n",
       "Barrio Parque Girado                   1\n",
       "Olivera                                1\n",
       "Berazategui Oeste                      1\n",
       "La Pilarica                            1\n",
       "Carmen de Patagones                    1\n",
       "La Escondida de Manzanares             1\n",
       "Country Golf El Sosiego                1\n",
       "Islas                                  1\n",
       "Navarro                                1\n",
       "Barrio San Alfonso - Pilar del Este    1\n",
       "Ranchos                                1\n",
       "Barrio Cerrado \"SpringDale\"            1\n",
       "Las Chacras                            1\n",
       "Barrio cerrado La Cascada              1\n",
       "Name: place_name_2, dtype: int64"
      ]
     },
     "execution_count": 17,
     "metadata": {},
     "output_type": "execute_result"
    }
   ],
   "source": [
    "data1.place_name_2.value_counts(ascending=True).head(30)"
   ]
  },
  {
   "cell_type": "markdown",
   "metadata": {},
   "source": []
  },
  {
   "cell_type": "code",
   "execution_count": 18,
   "metadata": {},
   "outputs": [
    {
     "data": {
      "text/plain": [
       "False    355\n",
       "True     237\n",
       "Name: place_name_2, dtype: int64"
      ]
     },
     "execution_count": 18,
     "metadata": {},
     "output_type": "execute_result"
    }
   ],
   "source": [
    "menos_10_prop = data1.place_name_2.value_counts() < 5\n",
    "menos_10_prop.value_counts()"
   ]
  },
  {
   "cell_type": "markdown",
   "metadata": {},
   "source": [
    "Agrupamops en una Pivot_table segun las columnas 'state_name' 'place_name'. \n",
    "Identificamos los registros que tienen valores nulos, a partir de la media."
   ]
  },
  {
   "cell_type": "code",
   "execution_count": 19,
   "metadata": {},
   "outputs": [
    {
     "name": "stdout",
     "output_type": "stream",
     "text": [
      "<class 'pandas.core.frame.DataFrame'>\n",
      "<class 'pandas.core.series.Series'>\n"
     ]
    },
    {
     "data": {
      "text/html": [
       "<div>\n",
       "<style scoped>\n",
       "    .dataframe tbody tr th:only-of-type {\n",
       "        vertical-align: middle;\n",
       "    }\n",
       "\n",
       "    .dataframe tbody tr th {\n",
       "        vertical-align: top;\n",
       "    }\n",
       "\n",
       "    .dataframe thead tr th {\n",
       "        text-align: left;\n",
       "    }\n",
       "\n",
       "    .dataframe thead tr:last-of-type th {\n",
       "        text-align: right;\n",
       "    }\n",
       "</style>\n",
       "<table border=\"1\" class=\"dataframe\">\n",
       "  <thead>\n",
       "    <tr>\n",
       "      <th></th>\n",
       "      <th></th>\n",
       "      <th colspan=\"4\" halign=\"left\">price_usd_per_m2</th>\n",
       "    </tr>\n",
       "    <tr>\n",
       "      <th></th>\n",
       "      <th></th>\n",
       "      <th>amin</th>\n",
       "      <th>len</th>\n",
       "      <th>mean</th>\n",
       "      <th>std</th>\n",
       "    </tr>\n",
       "    <tr>\n",
       "      <th>state_name</th>\n",
       "      <th>place_name</th>\n",
       "      <th></th>\n",
       "      <th></th>\n",
       "      <th></th>\n",
       "      <th></th>\n",
       "    </tr>\n",
       "  </thead>\n",
       "  <tbody>\n",
       "    <tr>\n",
       "      <th rowspan=\"5\" valign=\"top\">Buenos Aires Interior</th>\n",
       "      <th>Buenos Aires Interior Adolfo Alsina</th>\n",
       "      <td>NaN</td>\n",
       "      <td>8.0</td>\n",
       "      <td>NaN</td>\n",
       "      <td>NaN</td>\n",
       "    </tr>\n",
       "    <tr>\n",
       "      <th>Buenos Aires Interior Carmen de Areco</th>\n",
       "      <td>NaN</td>\n",
       "      <td>11.0</td>\n",
       "      <td>NaN</td>\n",
       "      <td>NaN</td>\n",
       "    </tr>\n",
       "    <tr>\n",
       "      <th>Buenos Aires Interior General Belgrano</th>\n",
       "      <td>NaN</td>\n",
       "      <td>2.0</td>\n",
       "      <td>NaN</td>\n",
       "      <td>NaN</td>\n",
       "    </tr>\n",
       "    <tr>\n",
       "      <th>Buenos Aires Interior General Lavalle</th>\n",
       "      <td>NaN</td>\n",
       "      <td>1.0</td>\n",
       "      <td>NaN</td>\n",
       "      <td>NaN</td>\n",
       "    </tr>\n",
       "    <tr>\n",
       "      <th>Buenos Aires Interior General Paz</th>\n",
       "      <td>NaN</td>\n",
       "      <td>1.0</td>\n",
       "      <td>NaN</td>\n",
       "      <td>NaN</td>\n",
       "    </tr>\n",
       "    <tr>\n",
       "      <th>...</th>\n",
       "      <th>...</th>\n",
       "      <td>...</td>\n",
       "      <td>...</td>\n",
       "      <td>...</td>\n",
       "      <td>...</td>\n",
       "    </tr>\n",
       "    <tr>\n",
       "      <th rowspan=\"5\" valign=\"top\">Tucumán</th>\n",
       "      <th>Tucumán Concepción</th>\n",
       "      <td>NaN</td>\n",
       "      <td>1.0</td>\n",
       "      <td>NaN</td>\n",
       "      <td>NaN</td>\n",
       "    </tr>\n",
       "    <tr>\n",
       "      <th>Tucumán Las Talitas</th>\n",
       "      <td>NaN</td>\n",
       "      <td>1.0</td>\n",
       "      <td>NaN</td>\n",
       "      <td>NaN</td>\n",
       "    </tr>\n",
       "    <tr>\n",
       "      <th>Tucumán Lules</th>\n",
       "      <td>NaN</td>\n",
       "      <td>2.0</td>\n",
       "      <td>NaN</td>\n",
       "      <td>NaN</td>\n",
       "    </tr>\n",
       "    <tr>\n",
       "      <th>Tucumán Tafí Viejo</th>\n",
       "      <td>NaN</td>\n",
       "      <td>16.0</td>\n",
       "      <td>NaN</td>\n",
       "      <td>NaN</td>\n",
       "    </tr>\n",
       "    <tr>\n",
       "      <th>Tucumán Villa Belgrano</th>\n",
       "      <td>NaN</td>\n",
       "      <td>1.0</td>\n",
       "      <td>NaN</td>\n",
       "      <td>NaN</td>\n",
       "    </tr>\n",
       "  </tbody>\n",
       "</table>\n",
       "<p>128 rows × 4 columns</p>\n",
       "</div>"
      ],
      "text/plain": [
       "                                                             price_usd_per_m2  \\\n",
       "                                                                         amin   \n",
       "state_name            place_name                                                \n",
       "Buenos Aires Interior Buenos Aires Interior Adolfo Alsina                 NaN   \n",
       "                      Buenos Aires Interior Carmen de Areco               NaN   \n",
       "                      Buenos Aires Interior General Belgrano              NaN   \n",
       "                      Buenos Aires Interior General Lavalle               NaN   \n",
       "                      Buenos Aires Interior General Paz                   NaN   \n",
       "...                                                                       ...   \n",
       "Tucumán               Tucumán Concepción                                  NaN   \n",
       "                      Tucumán Las Talitas                                 NaN   \n",
       "                      Tucumán Lules                                       NaN   \n",
       "                      Tucumán Tafí Viejo                                  NaN   \n",
       "                      Tucumán Villa Belgrano                              NaN   \n",
       "\n",
       "                                                                             \n",
       "                                                               len mean std  \n",
       "state_name            place_name                                             \n",
       "Buenos Aires Interior Buenos Aires Interior Adolfo Alsina      8.0  NaN NaN  \n",
       "                      Buenos Aires Interior Carmen de Areco   11.0  NaN NaN  \n",
       "                      Buenos Aires Interior General Belgrano   2.0  NaN NaN  \n",
       "                      Buenos Aires Interior General Lavalle    1.0  NaN NaN  \n",
       "                      Buenos Aires Interior General Paz        1.0  NaN NaN  \n",
       "...                                                            ...  ...  ..  \n",
       "Tucumán               Tucumán Concepción                       1.0  NaN NaN  \n",
       "                      Tucumán Las Talitas                      1.0  NaN NaN  \n",
       "                      Tucumán Lules                            2.0  NaN NaN  \n",
       "                      Tucumán Tafí Viejo                      16.0  NaN NaN  \n",
       "                      Tucumán Villa Belgrano                   1.0  NaN NaN  \n",
       "\n",
       "[128 rows x 4 columns]"
      ]
     },
     "execution_count": 19,
     "metadata": {},
     "output_type": "execute_result"
    }
   ],
   "source": [
    "result = data1.pivot_table([\"price_usd_per_m2\"],index=[\"state_name\", \"place_name\"], aggfunc={'price_usd_per_m2':[np.mean,np.std,len,np.min]})\n",
    "print(type(result))\n",
    "result_isnull = result[('price_usd_per_m2','mean')].isnull()\n",
    "result[result_isnull]\n",
    "print(type(result_isnull))\n",
    "result[result_isnull]"
   ]
  },
  {
   "cell_type": "code",
   "execution_count": null,
   "metadata": {},
   "outputs": [],
   "source": []
  },
  {
   "cell_type": "code",
   "execution_count": 20,
   "metadata": {},
   "outputs": [],
   "source": [
    "result_ordenado = pd.DataFrame(result.to_records())"
   ]
  },
  {
   "cell_type": "code",
   "execution_count": 21,
   "metadata": {},
   "outputs": [
    {
     "data": {
      "text/plain": [
       "0.0"
      ]
     },
     "execution_count": 21,
     "metadata": {},
     "output_type": "execute_result"
    }
   ],
   "source": [
    "place_vacios = result_ordenado[\"place_name\"] == \"\"\n",
    "result_ordenado[\"('price_usd_per_m2', 'len')\"][place_vacios].sum()"
   ]
  },
  {
   "cell_type": "markdown",
   "metadata": {},
   "source": [
    "VER QUE FALLA ACA ARRIBA CON EL PARENTESIS"
   ]
  },
  {
   "cell_type": "code",
   "execution_count": 22,
   "metadata": {},
   "outputs": [
    {
     "data": {
      "text/html": [
       "<div>\n",
       "<style scoped>\n",
       "    .dataframe tbody tr th:only-of-type {\n",
       "        vertical-align: middle;\n",
       "    }\n",
       "\n",
       "    .dataframe tbody tr th {\n",
       "        vertical-align: top;\n",
       "    }\n",
       "\n",
       "    .dataframe thead tr th {\n",
       "        text-align: left;\n",
       "    }\n",
       "\n",
       "    .dataframe thead tr:last-of-type th {\n",
       "        text-align: right;\n",
       "    }\n",
       "</style>\n",
       "<table border=\"1\" class=\"dataframe\">\n",
       "  <thead>\n",
       "    <tr>\n",
       "      <th></th>\n",
       "      <th></th>\n",
       "      <th colspan=\"4\" halign=\"left\">price_usd_per_m2</th>\n",
       "    </tr>\n",
       "    <tr>\n",
       "      <th></th>\n",
       "      <th></th>\n",
       "      <th>amin</th>\n",
       "      <th>len</th>\n",
       "      <th>mean</th>\n",
       "      <th>std</th>\n",
       "    </tr>\n",
       "    <tr>\n",
       "      <th>state_name</th>\n",
       "      <th>place_name</th>\n",
       "      <th></th>\n",
       "      <th></th>\n",
       "      <th></th>\n",
       "      <th></th>\n",
       "    </tr>\n",
       "  </thead>\n",
       "  <tbody>\n",
       "    <tr>\n",
       "      <th rowspan=\"5\" valign=\"top\">Bs.As. G.B.A. Zona Norte</th>\n",
       "      <th>Bs.As. G.B.A. Zona Norte</th>\n",
       "      <td>357.533437</td>\n",
       "      <td>222.0</td>\n",
       "      <td>1542.439300</td>\n",
       "      <td>1234.165766</td>\n",
       "    </tr>\n",
       "    <tr>\n",
       "      <th>Bs.As. G.B.A. Zona Norte Escobar</th>\n",
       "      <td>10.566946</td>\n",
       "      <td>1909.0</td>\n",
       "      <td>2381.931441</td>\n",
       "      <td>12371.818982</td>\n",
       "    </tr>\n",
       "    <tr>\n",
       "      <th>Bs.As. G.B.A. Zona Norte General San Martín</th>\n",
       "      <td>266.666667</td>\n",
       "      <td>1582.0</td>\n",
       "      <td>2451.126893</td>\n",
       "      <td>6326.629260</td>\n",
       "    </tr>\n",
       "    <tr>\n",
       "      <th>Bs.As. G.B.A. Zona Norte José C Paz</th>\n",
       "      <td>266.393443</td>\n",
       "      <td>140.0</td>\n",
       "      <td>1405.997286</td>\n",
       "      <td>2946.655302</td>\n",
       "    </tr>\n",
       "    <tr>\n",
       "      <th>Bs.As. G.B.A. Zona Norte Malvinas Argentinas</th>\n",
       "      <td>93.749214</td>\n",
       "      <td>489.0</td>\n",
       "      <td>2420.914997</td>\n",
       "      <td>16528.835012</td>\n",
       "    </tr>\n",
       "    <tr>\n",
       "      <th>...</th>\n",
       "      <th>...</th>\n",
       "      <td>...</td>\n",
       "      <td>...</td>\n",
       "      <td>...</td>\n",
       "      <td>...</td>\n",
       "    </tr>\n",
       "    <tr>\n",
       "      <th>Tierra Del Fuego</th>\n",
       "      <th>Tierra Del Fuego Ushuaia</th>\n",
       "      <td>1524.012935</td>\n",
       "      <td>8.0</td>\n",
       "      <td>2868.115101</td>\n",
       "      <td>1564.436735</td>\n",
       "    </tr>\n",
       "    <tr>\n",
       "      <th rowspan=\"4\" valign=\"top\">Tucumán</th>\n",
       "      <th>Tucumán</th>\n",
       "      <td>400.597667</td>\n",
       "      <td>77.0</td>\n",
       "      <td>990.347769</td>\n",
       "      <td>597.954207</td>\n",
       "    </tr>\n",
       "    <tr>\n",
       "      <th>Tucumán San Miguel de Tucumán</th>\n",
       "      <td>685.467111</td>\n",
       "      <td>362.0</td>\n",
       "      <td>2893.278779</td>\n",
       "      <td>5284.992363</td>\n",
       "    </tr>\n",
       "    <tr>\n",
       "      <th>Tucumán Tafí del Valle</th>\n",
       "      <td>436.206333</td>\n",
       "      <td>22.0</td>\n",
       "      <td>469.982977</td>\n",
       "      <td>29.262723</td>\n",
       "    </tr>\n",
       "    <tr>\n",
       "      <th>Tucumán Yerba Buena</th>\n",
       "      <td>846.153846</td>\n",
       "      <td>191.0</td>\n",
       "      <td>1723.605609</td>\n",
       "      <td>1918.380394</td>\n",
       "    </tr>\n",
       "  </tbody>\n",
       "</table>\n",
       "<p>456 rows × 4 columns</p>\n",
       "</div>"
      ],
      "text/plain": [
       "                                                                      price_usd_per_m2  \\\n",
       "                                                                                  amin   \n",
       "state_name               place_name                                                      \n",
       "Bs.As. G.B.A. Zona Norte Bs.As. G.B.A. Zona Norte                           357.533437   \n",
       "                         Bs.As. G.B.A. Zona Norte Escobar                    10.566946   \n",
       "                         Bs.As. G.B.A. Zona Norte General San Martín        266.666667   \n",
       "                         Bs.As. G.B.A. Zona Norte José C Paz                266.393443   \n",
       "                         Bs.As. G.B.A. Zona Norte Malvinas Argentinas        93.749214   \n",
       "...                                                                                ...   \n",
       "Tierra Del Fuego         Tierra Del Fuego Ushuaia                          1524.012935   \n",
       "Tucumán                  Tucumán                                            400.597667   \n",
       "                         Tucumán San Miguel de Tucumán                      685.467111   \n",
       "                         Tucumán Tafí del Valle                             436.206333   \n",
       "                         Tucumán Yerba Buena                                846.153846   \n",
       "\n",
       "                                                                               \\\n",
       "                                                                          len   \n",
       "state_name               place_name                                             \n",
       "Bs.As. G.B.A. Zona Norte Bs.As. G.B.A. Zona Norte                       222.0   \n",
       "                         Bs.As. G.B.A. Zona Norte Escobar              1909.0   \n",
       "                         Bs.As. G.B.A. Zona Norte General San Martín   1582.0   \n",
       "                         Bs.As. G.B.A. Zona Norte José C Paz            140.0   \n",
       "                         Bs.As. G.B.A. Zona Norte Malvinas Argentinas   489.0   \n",
       "...                                                                       ...   \n",
       "Tierra Del Fuego         Tierra Del Fuego Ushuaia                         8.0   \n",
       "Tucumán                  Tucumán                                         77.0   \n",
       "                         Tucumán San Miguel de Tucumán                  362.0   \n",
       "                         Tucumán Tafí del Valle                          22.0   \n",
       "                         Tucumán Yerba Buena                            191.0   \n",
       "\n",
       "                                                                                    \\\n",
       "                                                                              mean   \n",
       "state_name               place_name                                                  \n",
       "Bs.As. G.B.A. Zona Norte Bs.As. G.B.A. Zona Norte                      1542.439300   \n",
       "                         Bs.As. G.B.A. Zona Norte Escobar              2381.931441   \n",
       "                         Bs.As. G.B.A. Zona Norte General San Martín   2451.126893   \n",
       "                         Bs.As. G.B.A. Zona Norte José C Paz           1405.997286   \n",
       "                         Bs.As. G.B.A. Zona Norte Malvinas Argentinas  2420.914997   \n",
       "...                                                                            ...   \n",
       "Tierra Del Fuego         Tierra Del Fuego Ushuaia                      2868.115101   \n",
       "Tucumán                  Tucumán                                        990.347769   \n",
       "                         Tucumán San Miguel de Tucumán                 2893.278779   \n",
       "                         Tucumán Tafí del Valle                         469.982977   \n",
       "                         Tucumán Yerba Buena                           1723.605609   \n",
       "\n",
       "                                                                                     \n",
       "                                                                                std  \n",
       "state_name               place_name                                                  \n",
       "Bs.As. G.B.A. Zona Norte Bs.As. G.B.A. Zona Norte                       1234.165766  \n",
       "                         Bs.As. G.B.A. Zona Norte Escobar              12371.818982  \n",
       "                         Bs.As. G.B.A. Zona Norte General San Martín    6326.629260  \n",
       "                         Bs.As. G.B.A. Zona Norte José C Paz            2946.655302  \n",
       "                         Bs.As. G.B.A. Zona Norte Malvinas Argentinas  16528.835012  \n",
       "...                                                                             ...  \n",
       "Tierra Del Fuego         Tierra Del Fuego Ushuaia                       1564.436735  \n",
       "Tucumán                  Tucumán                                         597.954207  \n",
       "                         Tucumán San Miguel de Tucumán                  5284.992363  \n",
       "                         Tucumán Tafí del Valle                           29.262723  \n",
       "                         Tucumán Yerba Buena                            1918.380394  \n",
       "\n",
       "[456 rows x 4 columns]"
      ]
     },
     "execution_count": 22,
     "metadata": {},
     "output_type": "execute_result"
    }
   ],
   "source": [
    "result_isnotnull = result[('price_usd_per_m2','mean')].notnull()\n",
    "result[result_isnotnull]"
   ]
  },
  {
   "cell_type": "markdown",
   "metadata": {},
   "source": [
    "Sacamos el promedio de todas las columnas."
   ]
  },
  {
   "cell_type": "code",
   "execution_count": 23,
   "metadata": {},
   "outputs": [
    {
     "data": {
      "text/plain": [
       "state_name                       0.000000\n",
       "place_name                       0.000000\n",
       "('price_usd_per_m2', 'amin')    21.917808\n",
       "('price_usd_per_m2', 'len')      0.000000\n",
       "('price_usd_per_m2', 'mean')    21.917808\n",
       "('price_usd_per_m2', 'std')     42.808219\n",
       "dtype: float64"
      ]
     },
     "execution_count": 23,
     "metadata": {},
     "output_type": "execute_result"
    }
   ],
   "source": [
    "result_ordenado.isnull().sum()/result_ordenado.shape[0]*100"
   ]
  },
  {
   "cell_type": "markdown",
   "metadata": {},
   "source": [
    "Renombramos todas las columnas."
   ]
  },
  {
   "cell_type": "code",
   "execution_count": 24,
   "metadata": {},
   "outputs": [
    {
     "data": {
      "text/html": [
       "<div>\n",
       "<style scoped>\n",
       "    .dataframe tbody tr th:only-of-type {\n",
       "        vertical-align: middle;\n",
       "    }\n",
       "\n",
       "    .dataframe tbody tr th {\n",
       "        vertical-align: top;\n",
       "    }\n",
       "\n",
       "    .dataframe thead th {\n",
       "        text-align: right;\n",
       "    }\n",
       "</style>\n",
       "<table border=\"1\" class=\"dataframe\">\n",
       "  <thead>\n",
       "    <tr style=\"text-align: right;\">\n",
       "      <th></th>\n",
       "      <th>Tipo_de_operacion</th>\n",
       "      <th>tipo_de_propiedad</th>\n",
       "      <th>ciudad</th>\n",
       "      <th>ubicacion</th>\n",
       "      <th>provincia</th>\n",
       "      <th>precio</th>\n",
       "      <th>currency</th>\n",
       "      <th>Precio_aproximado_en_pesos</th>\n",
       "      <th>precio_aproximado_en_USD</th>\n",
       "      <th>superficie_total_en_M2</th>\n",
       "      <th>superficie_cubierta_en_M2</th>\n",
       "      <th>Precio_en_Dolares_por_M2</th>\n",
       "      <th>precio_por_M2</th>\n",
       "      <th>place_name_2</th>\n",
       "    </tr>\n",
       "  </thead>\n",
       "  <tbody>\n",
       "    <tr>\n",
       "      <th>0</th>\n",
       "      <td>sell</td>\n",
       "      <td>PH</td>\n",
       "      <td>Capital Federal Mataderos</td>\n",
       "      <td>|Argentina|Capital Federal|Mataderos|</td>\n",
       "      <td>Capital Federal</td>\n",
       "      <td>62000.0</td>\n",
       "      <td>USD</td>\n",
       "      <td>1093959.0</td>\n",
       "      <td>62000.0</td>\n",
       "      <td>55.0</td>\n",
       "      <td>40.0</td>\n",
       "      <td>1550.000000</td>\n",
       "      <td>1550.000000</td>\n",
       "      <td></td>\n",
       "    </tr>\n",
       "    <tr>\n",
       "      <th>1</th>\n",
       "      <td>sell</td>\n",
       "      <td>apartment</td>\n",
       "      <td>Bs.As. G.B.A. Zona Sur La Plata</td>\n",
       "      <td>|Argentina|Bs.As. G.B.A. Zona Sur|La Plata|</td>\n",
       "      <td>Bs.As. G.B.A. Zona Sur</td>\n",
       "      <td>150000.0</td>\n",
       "      <td>USD</td>\n",
       "      <td>2646675.0</td>\n",
       "      <td>150000.0</td>\n",
       "      <td>NaN</td>\n",
       "      <td>NaN</td>\n",
       "      <td>NaN</td>\n",
       "      <td>NaN</td>\n",
       "      <td></td>\n",
       "    </tr>\n",
       "    <tr>\n",
       "      <th>2</th>\n",
       "      <td>sell</td>\n",
       "      <td>apartment</td>\n",
       "      <td>Capital Federal Mataderos</td>\n",
       "      <td>|Argentina|Capital Federal|Mataderos|</td>\n",
       "      <td>Capital Federal</td>\n",
       "      <td>72000.0</td>\n",
       "      <td>USD</td>\n",
       "      <td>1270404.0</td>\n",
       "      <td>72000.0</td>\n",
       "      <td>55.0</td>\n",
       "      <td>55.0</td>\n",
       "      <td>1309.090909</td>\n",
       "      <td>1309.090909</td>\n",
       "      <td></td>\n",
       "    </tr>\n",
       "    <tr>\n",
       "      <th>3</th>\n",
       "      <td>sell</td>\n",
       "      <td>PH</td>\n",
       "      <td>Capital Federal Liniers</td>\n",
       "      <td>|Argentina|Capital Federal|Liniers|</td>\n",
       "      <td>Capital Federal</td>\n",
       "      <td>95000.0</td>\n",
       "      <td>USD</td>\n",
       "      <td>1676227.5</td>\n",
       "      <td>95000.0</td>\n",
       "      <td>NaN</td>\n",
       "      <td>NaN</td>\n",
       "      <td>NaN</td>\n",
       "      <td>NaN</td>\n",
       "      <td></td>\n",
       "    </tr>\n",
       "    <tr>\n",
       "      <th>4</th>\n",
       "      <td>sell</td>\n",
       "      <td>apartment</td>\n",
       "      <td>Buenos Aires Costa Atlántica Mar del Plata</td>\n",
       "      <td>|Argentina|Buenos Aires Costa Atlántica|Mar de...</td>\n",
       "      <td>Buenos Aires Costa Atlántica</td>\n",
       "      <td>64000.0</td>\n",
       "      <td>USD</td>\n",
       "      <td>1129248.0</td>\n",
       "      <td>64000.0</td>\n",
       "      <td>35.0</td>\n",
       "      <td>35.0</td>\n",
       "      <td>1828.571429</td>\n",
       "      <td>1828.571429</td>\n",
       "      <td>Centro</td>\n",
       "    </tr>\n",
       "  </tbody>\n",
       "</table>\n",
       "</div>"
      ],
      "text/plain": [
       "  Tipo_de_operacion tipo_de_propiedad  \\\n",
       "0              sell                PH   \n",
       "1              sell         apartment   \n",
       "2              sell         apartment   \n",
       "3              sell                PH   \n",
       "4              sell         apartment   \n",
       "\n",
       "                                       ciudad  \\\n",
       "0                   Capital Federal Mataderos   \n",
       "1             Bs.As. G.B.A. Zona Sur La Plata   \n",
       "2                   Capital Federal Mataderos   \n",
       "3                     Capital Federal Liniers   \n",
       "4  Buenos Aires Costa Atlántica Mar del Plata   \n",
       "\n",
       "                                           ubicacion  \\\n",
       "0              |Argentina|Capital Federal|Mataderos|   \n",
       "1        |Argentina|Bs.As. G.B.A. Zona Sur|La Plata|   \n",
       "2              |Argentina|Capital Federal|Mataderos|   \n",
       "3                |Argentina|Capital Federal|Liniers|   \n",
       "4  |Argentina|Buenos Aires Costa Atlántica|Mar de...   \n",
       "\n",
       "                      provincia    precio currency  \\\n",
       "0               Capital Federal   62000.0      USD   \n",
       "1        Bs.As. G.B.A. Zona Sur  150000.0      USD   \n",
       "2               Capital Federal   72000.0      USD   \n",
       "3               Capital Federal   95000.0      USD   \n",
       "4  Buenos Aires Costa Atlántica   64000.0      USD   \n",
       "\n",
       "   Precio_aproximado_en_pesos  precio_aproximado_en_USD  \\\n",
       "0                   1093959.0                   62000.0   \n",
       "1                   2646675.0                  150000.0   \n",
       "2                   1270404.0                   72000.0   \n",
       "3                   1676227.5                   95000.0   \n",
       "4                   1129248.0                   64000.0   \n",
       "\n",
       "   superficie_total_en_M2  superficie_cubierta_en_M2  \\\n",
       "0                    55.0                       40.0   \n",
       "1                     NaN                        NaN   \n",
       "2                    55.0                       55.0   \n",
       "3                     NaN                        NaN   \n",
       "4                    35.0                       35.0   \n",
       "\n",
       "   Precio_en_Dolares_por_M2  precio_por_M2 place_name_2  \n",
       "0               1550.000000    1550.000000               \n",
       "1                       NaN            NaN               \n",
       "2               1309.090909    1309.090909               \n",
       "3                       NaN            NaN               \n",
       "4               1828.571429    1828.571429       Centro  "
      ]
     },
     "execution_count": 24,
     "metadata": {},
     "output_type": "execute_result"
    }
   ],
   "source": [
    "columnas_dic = {'operation': 'Tipo_de_operacion', 'property_type': 'tipo_de_propiedad', 'place_name' : 'ciudad', 'place_with_parent_names': 'ubicacion',\n",
    "       'country_name': 'pais', 'state_name': 'provincia', 'price' : 'precio', 'price_aprox_local_currency': 'Precio_aproximado_en_pesos',\n",
    "       'price_aprox_usd': 'precio_aproximado_en_USD', 'surface_total_in_m2': 'superficie_total_en_M2', 'surface_covered_in_m2': 'superficie_cubierta_en_M2',\n",
    "       'price_usd_per_m2': 'Precio_en_Dolares_por_M2', 'price_per_m2': 'precio_por_M2'}\n",
    "data1 = data1.rename(columns=columnas_dic)\n",
    "data1.head()"
   ]
  },
  {
   "cell_type": "code",
   "execution_count": 25,
   "metadata": {},
   "outputs": [
    {
     "data": {
      "text/html": [
       "<div>\n",
       "<style scoped>\n",
       "    .dataframe tbody tr th:only-of-type {\n",
       "        vertical-align: middle;\n",
       "    }\n",
       "\n",
       "    .dataframe tbody tr th {\n",
       "        vertical-align: top;\n",
       "    }\n",
       "\n",
       "    .dataframe thead th {\n",
       "        text-align: right;\n",
       "    }\n",
       "</style>\n",
       "<table border=\"1\" class=\"dataframe\">\n",
       "  <thead>\n",
       "    <tr style=\"text-align: right;\">\n",
       "      <th></th>\n",
       "      <th>Tipo_de_operacion</th>\n",
       "      <th>tipo_de_propiedad</th>\n",
       "      <th>ciudad</th>\n",
       "      <th>ubicacion</th>\n",
       "      <th>provincia</th>\n",
       "      <th>precio</th>\n",
       "      <th>currency</th>\n",
       "      <th>Precio_aproximado_en_pesos</th>\n",
       "      <th>precio_aproximado_en_USD</th>\n",
       "      <th>superficie_total_en_M2</th>\n",
       "      <th>superficie_cubierta_en_M2</th>\n",
       "      <th>Precio_en_Dolares_por_M2</th>\n",
       "      <th>precio_por_M2</th>\n",
       "      <th>place_name_2</th>\n",
       "    </tr>\n",
       "  </thead>\n",
       "  <tbody>\n",
       "    <tr>\n",
       "      <th>0</th>\n",
       "      <td>sell</td>\n",
       "      <td>PH</td>\n",
       "      <td>Capital Federal Mataderos</td>\n",
       "      <td>|Argentina|Capital Federal|Mataderos|</td>\n",
       "      <td>Capital Federal</td>\n",
       "      <td>62000.0</td>\n",
       "      <td>USD</td>\n",
       "      <td>1093959.00</td>\n",
       "      <td>62000.00</td>\n",
       "      <td>55.0</td>\n",
       "      <td>40.0</td>\n",
       "      <td>1550.000000</td>\n",
       "      <td>1550.000000</td>\n",
       "      <td></td>\n",
       "    </tr>\n",
       "    <tr>\n",
       "      <th>1</th>\n",
       "      <td>sell</td>\n",
       "      <td>apartment</td>\n",
       "      <td>Bs.As. G.B.A. Zona Sur La Plata</td>\n",
       "      <td>|Argentina|Bs.As. G.B.A. Zona Sur|La Plata|</td>\n",
       "      <td>Bs.As. G.B.A. Zona Sur</td>\n",
       "      <td>150000.0</td>\n",
       "      <td>USD</td>\n",
       "      <td>2646675.00</td>\n",
       "      <td>150000.00</td>\n",
       "      <td>NaN</td>\n",
       "      <td>NaN</td>\n",
       "      <td>NaN</td>\n",
       "      <td>NaN</td>\n",
       "      <td></td>\n",
       "    </tr>\n",
       "    <tr>\n",
       "      <th>2</th>\n",
       "      <td>sell</td>\n",
       "      <td>apartment</td>\n",
       "      <td>Capital Federal Mataderos</td>\n",
       "      <td>|Argentina|Capital Federal|Mataderos|</td>\n",
       "      <td>Capital Federal</td>\n",
       "      <td>72000.0</td>\n",
       "      <td>USD</td>\n",
       "      <td>1270404.00</td>\n",
       "      <td>72000.00</td>\n",
       "      <td>55.0</td>\n",
       "      <td>55.0</td>\n",
       "      <td>1309.090909</td>\n",
       "      <td>1309.090909</td>\n",
       "      <td></td>\n",
       "    </tr>\n",
       "    <tr>\n",
       "      <th>3</th>\n",
       "      <td>sell</td>\n",
       "      <td>PH</td>\n",
       "      <td>Capital Federal Liniers</td>\n",
       "      <td>|Argentina|Capital Federal|Liniers|</td>\n",
       "      <td>Capital Federal</td>\n",
       "      <td>95000.0</td>\n",
       "      <td>USD</td>\n",
       "      <td>1676227.50</td>\n",
       "      <td>95000.00</td>\n",
       "      <td>NaN</td>\n",
       "      <td>NaN</td>\n",
       "      <td>NaN</td>\n",
       "      <td>NaN</td>\n",
       "      <td></td>\n",
       "    </tr>\n",
       "    <tr>\n",
       "      <th>4</th>\n",
       "      <td>sell</td>\n",
       "      <td>apartment</td>\n",
       "      <td>Buenos Aires Costa Atlántica Mar del Plata</td>\n",
       "      <td>|Argentina|Buenos Aires Costa Atlántica|Mar de...</td>\n",
       "      <td>Buenos Aires Costa Atlántica</td>\n",
       "      <td>64000.0</td>\n",
       "      <td>USD</td>\n",
       "      <td>1129248.00</td>\n",
       "      <td>64000.00</td>\n",
       "      <td>35.0</td>\n",
       "      <td>35.0</td>\n",
       "      <td>1828.571429</td>\n",
       "      <td>1828.571429</td>\n",
       "      <td>Centro</td>\n",
       "    </tr>\n",
       "    <tr>\n",
       "      <th>...</th>\n",
       "      <td>...</td>\n",
       "      <td>...</td>\n",
       "      <td>...</td>\n",
       "      <td>...</td>\n",
       "      <td>...</td>\n",
       "      <td>...</td>\n",
       "      <td>...</td>\n",
       "      <td>...</td>\n",
       "      <td>...</td>\n",
       "      <td>...</td>\n",
       "      <td>...</td>\n",
       "      <td>...</td>\n",
       "      <td>...</td>\n",
       "      <td>...</td>\n",
       "    </tr>\n",
       "    <tr>\n",
       "      <th>119832</th>\n",
       "      <td>sell</td>\n",
       "      <td>house</td>\n",
       "      <td>Santa Fe Malabrigo</td>\n",
       "      <td>|Argentina|Santa Fe|Malabrigo|</td>\n",
       "      <td>Santa Fe</td>\n",
       "      <td>2500000.0</td>\n",
       "      <td>ARS</td>\n",
       "      <td>2473921.05</td>\n",
       "      <td>140209.19</td>\n",
       "      <td>300.0</td>\n",
       "      <td>130.0</td>\n",
       "      <td>1078.532231</td>\n",
       "      <td>19230.769231</td>\n",
       "      <td></td>\n",
       "    </tr>\n",
       "    <tr>\n",
       "      <th>120061</th>\n",
       "      <td>sell</td>\n",
       "      <td>house</td>\n",
       "      <td>Buenos Aires Costa Atlántica Mar del Plata</td>\n",
       "      <td>|Argentina|Buenos Aires Costa Atlántica|Mar de...</td>\n",
       "      <td>Buenos Aires Costa Atlántica</td>\n",
       "      <td>72000.0</td>\n",
       "      <td>USD</td>\n",
       "      <td>1270404.00</td>\n",
       "      <td>72000.00</td>\n",
       "      <td>500.0</td>\n",
       "      <td>86.0</td>\n",
       "      <td>837.209302</td>\n",
       "      <td>837.209302</td>\n",
       "      <td>Los Acantilados</td>\n",
       "    </tr>\n",
       "    <tr>\n",
       "      <th>120082</th>\n",
       "      <td>sell</td>\n",
       "      <td>apartment</td>\n",
       "      <td>Buenos Aires Costa Atlántica Mar del Plata</td>\n",
       "      <td>|Argentina|Buenos Aires Costa Atlántica|Mar de...</td>\n",
       "      <td>Buenos Aires Costa Atlántica</td>\n",
       "      <td>72000.0</td>\n",
       "      <td>USD</td>\n",
       "      <td>1270404.00</td>\n",
       "      <td>72000.00</td>\n",
       "      <td>50.0</td>\n",
       "      <td>45.0</td>\n",
       "      <td>1600.000000</td>\n",
       "      <td>1600.000000</td>\n",
       "      <td>Barrio La Perla Norte</td>\n",
       "    </tr>\n",
       "    <tr>\n",
       "      <th>120644</th>\n",
       "      <td>sell</td>\n",
       "      <td>house</td>\n",
       "      <td>Córdoba Agua de Oro</td>\n",
       "      <td>|Argentina|Córdoba|Agua de Oro|</td>\n",
       "      <td>Córdoba</td>\n",
       "      <td>NaN</td>\n",
       "      <td>NaN</td>\n",
       "      <td>NaN</td>\n",
       "      <td>NaN</td>\n",
       "      <td>NaN</td>\n",
       "      <td>140.0</td>\n",
       "      <td>NaN</td>\n",
       "      <td>NaN</td>\n",
       "      <td></td>\n",
       "    </tr>\n",
       "    <tr>\n",
       "      <th>121140</th>\n",
       "      <td>sell</td>\n",
       "      <td>house</td>\n",
       "      <td>Bs.As. G.B.A. Zona Sur Berazategui</td>\n",
       "      <td>|Argentina|Bs.As. G.B.A. Zona Sur|Berazategui|...</td>\n",
       "      <td>Bs.As. G.B.A. Zona Sur</td>\n",
       "      <td>375000.0</td>\n",
       "      <td>USD</td>\n",
       "      <td>6616687.50</td>\n",
       "      <td>375000.00</td>\n",
       "      <td>NaN</td>\n",
       "      <td>213.0</td>\n",
       "      <td>1760.563380</td>\n",
       "      <td>1760.563380</td>\n",
       "      <td>Altos de Hudson I</td>\n",
       "    </tr>\n",
       "  </tbody>\n",
       "</table>\n",
       "<p>4183 rows × 14 columns</p>\n",
       "</div>"
      ],
      "text/plain": [
       "       Tipo_de_operacion tipo_de_propiedad  \\\n",
       "0                   sell                PH   \n",
       "1                   sell         apartment   \n",
       "2                   sell         apartment   \n",
       "3                   sell                PH   \n",
       "4                   sell         apartment   \n",
       "...                  ...               ...   \n",
       "119832              sell             house   \n",
       "120061              sell             house   \n",
       "120082              sell         apartment   \n",
       "120644              sell             house   \n",
       "121140              sell             house   \n",
       "\n",
       "                                            ciudad  \\\n",
       "0                        Capital Federal Mataderos   \n",
       "1                  Bs.As. G.B.A. Zona Sur La Plata   \n",
       "2                        Capital Federal Mataderos   \n",
       "3                          Capital Federal Liniers   \n",
       "4       Buenos Aires Costa Atlántica Mar del Plata   \n",
       "...                                            ...   \n",
       "119832                          Santa Fe Malabrigo   \n",
       "120061  Buenos Aires Costa Atlántica Mar del Plata   \n",
       "120082  Buenos Aires Costa Atlántica Mar del Plata   \n",
       "120644                         Córdoba Agua de Oro   \n",
       "121140          Bs.As. G.B.A. Zona Sur Berazategui   \n",
       "\n",
       "                                                ubicacion  \\\n",
       "0                   |Argentina|Capital Federal|Mataderos|   \n",
       "1             |Argentina|Bs.As. G.B.A. Zona Sur|La Plata|   \n",
       "2                   |Argentina|Capital Federal|Mataderos|   \n",
       "3                     |Argentina|Capital Federal|Liniers|   \n",
       "4       |Argentina|Buenos Aires Costa Atlántica|Mar de...   \n",
       "...                                                   ...   \n",
       "119832                     |Argentina|Santa Fe|Malabrigo|   \n",
       "120061  |Argentina|Buenos Aires Costa Atlántica|Mar de...   \n",
       "120082  |Argentina|Buenos Aires Costa Atlántica|Mar de...   \n",
       "120644                    |Argentina|Córdoba|Agua de Oro|   \n",
       "121140  |Argentina|Bs.As. G.B.A. Zona Sur|Berazategui|...   \n",
       "\n",
       "                           provincia     precio currency  \\\n",
       "0                    Capital Federal    62000.0      USD   \n",
       "1             Bs.As. G.B.A. Zona Sur   150000.0      USD   \n",
       "2                    Capital Federal    72000.0      USD   \n",
       "3                    Capital Federal    95000.0      USD   \n",
       "4       Buenos Aires Costa Atlántica    64000.0      USD   \n",
       "...                              ...        ...      ...   \n",
       "119832                      Santa Fe  2500000.0      ARS   \n",
       "120061  Buenos Aires Costa Atlántica    72000.0      USD   \n",
       "120082  Buenos Aires Costa Atlántica    72000.0      USD   \n",
       "120644                       Córdoba        NaN      NaN   \n",
       "121140        Bs.As. G.B.A. Zona Sur   375000.0      USD   \n",
       "\n",
       "        Precio_aproximado_en_pesos  precio_aproximado_en_USD  \\\n",
       "0                       1093959.00                  62000.00   \n",
       "1                       2646675.00                 150000.00   \n",
       "2                       1270404.00                  72000.00   \n",
       "3                       1676227.50                  95000.00   \n",
       "4                       1129248.00                  64000.00   \n",
       "...                            ...                       ...   \n",
       "119832                  2473921.05                 140209.19   \n",
       "120061                  1270404.00                  72000.00   \n",
       "120082                  1270404.00                  72000.00   \n",
       "120644                         NaN                       NaN   \n",
       "121140                  6616687.50                 375000.00   \n",
       "\n",
       "        superficie_total_en_M2  superficie_cubierta_en_M2  \\\n",
       "0                         55.0                       40.0   \n",
       "1                          NaN                        NaN   \n",
       "2                         55.0                       55.0   \n",
       "3                          NaN                        NaN   \n",
       "4                         35.0                       35.0   \n",
       "...                        ...                        ...   \n",
       "119832                   300.0                      130.0   \n",
       "120061                   500.0                       86.0   \n",
       "120082                    50.0                       45.0   \n",
       "120644                     NaN                      140.0   \n",
       "121140                     NaN                      213.0   \n",
       "\n",
       "        Precio_en_Dolares_por_M2  precio_por_M2           place_name_2  \n",
       "0                    1550.000000    1550.000000                         \n",
       "1                            NaN            NaN                         \n",
       "2                    1309.090909    1309.090909                         \n",
       "3                            NaN            NaN                         \n",
       "4                    1828.571429    1828.571429                 Centro  \n",
       "...                          ...            ...                    ...  \n",
       "119832               1078.532231   19230.769231                         \n",
       "120061                837.209302     837.209302        Los Acantilados  \n",
       "120082               1600.000000    1600.000000  Barrio La Perla Norte  \n",
       "120644                       NaN            NaN                         \n",
       "121140               1760.563380    1760.563380      Altos de Hudson I  \n",
       "\n",
       "[4183 rows x 14 columns]"
      ]
     },
     "execution_count": 25,
     "metadata": {},
     "output_type": "execute_result"
    }
   ],
   "source": [
    "data_2 = data1.groupby(['provincia', 'ciudad', 'place_name_2'])\n",
    "data_2.head(5)"
   ]
  },
  {
   "cell_type": "markdown",
   "metadata": {},
   "source": [
    "Sacamos todos los nulos de la columna 'Precio_en_Dolares_por_M2' para poder realizar un promedio real del precio por metro cuadrado en USD de acuerdo a la localidad."
   ]
  },
  {
   "cell_type": "code",
   "execution_count": 26,
   "metadata": {},
   "outputs": [
    {
     "data": {
      "text/html": [
       "<div>\n",
       "<style scoped>\n",
       "    .dataframe tbody tr th:only-of-type {\n",
       "        vertical-align: middle;\n",
       "    }\n",
       "\n",
       "    .dataframe tbody tr th {\n",
       "        vertical-align: top;\n",
       "    }\n",
       "\n",
       "    .dataframe thead th {\n",
       "        text-align: right;\n",
       "    }\n",
       "</style>\n",
       "<table border=\"1\" class=\"dataframe\">\n",
       "  <thead>\n",
       "    <tr style=\"text-align: right;\">\n",
       "      <th></th>\n",
       "      <th></th>\n",
       "      <th>precio</th>\n",
       "      <th>Precio_aproximado_en_pesos</th>\n",
       "      <th>precio_aproximado_en_USD</th>\n",
       "      <th>superficie_total_en_M2</th>\n",
       "      <th>superficie_cubierta_en_M2</th>\n",
       "      <th>Precio_en_Dolares_por_M2</th>\n",
       "      <th>precio_por_M2</th>\n",
       "    </tr>\n",
       "    <tr>\n",
       "      <th>provincia</th>\n",
       "      <th>ciudad</th>\n",
       "      <th></th>\n",
       "      <th></th>\n",
       "      <th></th>\n",
       "      <th></th>\n",
       "      <th></th>\n",
       "      <th></th>\n",
       "      <th></th>\n",
       "    </tr>\n",
       "  </thead>\n",
       "  <tbody>\n",
       "    <tr>\n",
       "      <th rowspan=\"5\" valign=\"top\">Bs.As. G.B.A. Zona Norte</th>\n",
       "      <th>Bs.As. G.B.A. Zona Norte</th>\n",
       "      <td>2.724984e+05</td>\n",
       "      <td>4.367626e+06</td>\n",
       "      <td>247534.704096</td>\n",
       "      <td>645.088050</td>\n",
       "      <td>200.819149</td>\n",
       "      <td>1542.439300</td>\n",
       "      <td>1969.086181</td>\n",
       "    </tr>\n",
       "    <tr>\n",
       "      <th>Bs.As. G.B.A. Zona Norte Escobar</th>\n",
       "      <td>3.523756e+05</td>\n",
       "      <td>4.717818e+06</td>\n",
       "      <td>267381.779168</td>\n",
       "      <td>454.817680</td>\n",
       "      <td>192.322324</td>\n",
       "      <td>2381.931441</td>\n",
       "      <td>3778.058197</td>\n",
       "    </tr>\n",
       "    <tr>\n",
       "      <th>Bs.As. G.B.A. Zona Norte General San Martín</th>\n",
       "      <td>1.781078e+05</td>\n",
       "      <td>3.129236e+06</td>\n",
       "      <td>177349.101432</td>\n",
       "      <td>173.680208</td>\n",
       "      <td>123.607385</td>\n",
       "      <td>2451.126893</td>\n",
       "      <td>2475.599835</td>\n",
       "    </tr>\n",
       "    <tr>\n",
       "      <th>Bs.As. G.B.A. Zona Norte José C Paz</th>\n",
       "      <td>1.625359e+05</td>\n",
       "      <td>2.451491e+06</td>\n",
       "      <td>138937.989231</td>\n",
       "      <td>309.916667</td>\n",
       "      <td>136.576923</td>\n",
       "      <td>1405.997286</td>\n",
       "      <td>1906.384351</td>\n",
       "    </tr>\n",
       "    <tr>\n",
       "      <th>Bs.As. G.B.A. Zona Norte Malvinas Argentinas</th>\n",
       "      <td>4.134492e+05</td>\n",
       "      <td>5.916854e+06</td>\n",
       "      <td>335337.035975</td>\n",
       "      <td>573.552727</td>\n",
       "      <td>258.690000</td>\n",
       "      <td>2420.914997</td>\n",
       "      <td>3348.426497</td>\n",
       "    </tr>\n",
       "    <tr>\n",
       "      <th>...</th>\n",
       "      <th>...</th>\n",
       "      <td>...</td>\n",
       "      <td>...</td>\n",
       "      <td>...</td>\n",
       "      <td>...</td>\n",
       "      <td>...</td>\n",
       "      <td>...</td>\n",
       "      <td>...</td>\n",
       "    </tr>\n",
       "    <tr>\n",
       "      <th>Tierra Del Fuego</th>\n",
       "      <th>Tierra Del Fuego Ushuaia</th>\n",
       "      <td>1.534000e+06</td>\n",
       "      <td>4.915604e+06</td>\n",
       "      <td>278591.288000</td>\n",
       "      <td>160.200000</td>\n",
       "      <td>120.600000</td>\n",
       "      <td>2868.115101</td>\n",
       "      <td>13661.593086</td>\n",
       "    </tr>\n",
       "    <tr>\n",
       "      <th rowspan=\"4\" valign=\"top\">Tucumán</th>\n",
       "      <th>Tucumán</th>\n",
       "      <td>2.368571e+06</td>\n",
       "      <td>3.652465e+06</td>\n",
       "      <td>207003.042857</td>\n",
       "      <td>416.571429</td>\n",
       "      <td>257.285714</td>\n",
       "      <td>990.347769</td>\n",
       "      <td>14719.738422</td>\n",
       "    </tr>\n",
       "    <tr>\n",
       "      <th>Tucumán San Miguel de Tucumán</th>\n",
       "      <td>1.754314e+06</td>\n",
       "      <td>3.902522e+06</td>\n",
       "      <td>221175.001053</td>\n",
       "      <td>113.263158</td>\n",
       "      <td>73.565789</td>\n",
       "      <td>2893.278779</td>\n",
       "      <td>24578.797662</td>\n",
       "    </tr>\n",
       "    <tr>\n",
       "      <th>Tucumán Tafí del Valle</th>\n",
       "      <td>1.333333e+06</td>\n",
       "      <td>1.319424e+06</td>\n",
       "      <td>74778.230000</td>\n",
       "      <td>156.666667</td>\n",
       "      <td>156.666667</td>\n",
       "      <td>469.982977</td>\n",
       "      <td>8380.032206</td>\n",
       "    </tr>\n",
       "    <tr>\n",
       "      <th>Tucumán Yerba Buena</th>\n",
       "      <td>5.735000e+06</td>\n",
       "      <td>6.043306e+06</td>\n",
       "      <td>342503.681667</td>\n",
       "      <td>375.000000</td>\n",
       "      <td>191.583333</td>\n",
       "      <td>1723.605609</td>\n",
       "      <td>29223.713565</td>\n",
       "    </tr>\n",
       "  </tbody>\n",
       "</table>\n",
       "<p>456 rows × 7 columns</p>\n",
       "</div>"
      ],
      "text/plain": [
       "                                                                             precio  \\\n",
       "provincia                ciudad                                                       \n",
       "Bs.As. G.B.A. Zona Norte Bs.As. G.B.A. Zona Norte                      2.724984e+05   \n",
       "                         Bs.As. G.B.A. Zona Norte Escobar              3.523756e+05   \n",
       "                         Bs.As. G.B.A. Zona Norte General San Martín   1.781078e+05   \n",
       "                         Bs.As. G.B.A. Zona Norte José C Paz           1.625359e+05   \n",
       "                         Bs.As. G.B.A. Zona Norte Malvinas Argentinas  4.134492e+05   \n",
       "...                                                                             ...   \n",
       "Tierra Del Fuego         Tierra Del Fuego Ushuaia                      1.534000e+06   \n",
       "Tucumán                  Tucumán                                       2.368571e+06   \n",
       "                         Tucumán San Miguel de Tucumán                 1.754314e+06   \n",
       "                         Tucumán Tafí del Valle                        1.333333e+06   \n",
       "                         Tucumán Yerba Buena                           5.735000e+06   \n",
       "\n",
       "                                                                       Precio_aproximado_en_pesos  \\\n",
       "provincia                ciudad                                                                     \n",
       "Bs.As. G.B.A. Zona Norte Bs.As. G.B.A. Zona Norte                                    4.367626e+06   \n",
       "                         Bs.As. G.B.A. Zona Norte Escobar                            4.717818e+06   \n",
       "                         Bs.As. G.B.A. Zona Norte General San Martín                 3.129236e+06   \n",
       "                         Bs.As. G.B.A. Zona Norte José C Paz                         2.451491e+06   \n",
       "                         Bs.As. G.B.A. Zona Norte Malvinas Argentinas                5.916854e+06   \n",
       "...                                                                                           ...   \n",
       "Tierra Del Fuego         Tierra Del Fuego Ushuaia                                    4.915604e+06   \n",
       "Tucumán                  Tucumán                                                     3.652465e+06   \n",
       "                         Tucumán San Miguel de Tucumán                               3.902522e+06   \n",
       "                         Tucumán Tafí del Valle                                      1.319424e+06   \n",
       "                         Tucumán Yerba Buena                                         6.043306e+06   \n",
       "\n",
       "                                                                       precio_aproximado_en_USD  \\\n",
       "provincia                ciudad                                                                   \n",
       "Bs.As. G.B.A. Zona Norte Bs.As. G.B.A. Zona Norte                                 247534.704096   \n",
       "                         Bs.As. G.B.A. Zona Norte Escobar                         267381.779168   \n",
       "                         Bs.As. G.B.A. Zona Norte General San Martín              177349.101432   \n",
       "                         Bs.As. G.B.A. Zona Norte José C Paz                      138937.989231   \n",
       "                         Bs.As. G.B.A. Zona Norte Malvinas Argentinas             335337.035975   \n",
       "...                                                                                         ...   \n",
       "Tierra Del Fuego         Tierra Del Fuego Ushuaia                                 278591.288000   \n",
       "Tucumán                  Tucumán                                                  207003.042857   \n",
       "                         Tucumán San Miguel de Tucumán                            221175.001053   \n",
       "                         Tucumán Tafí del Valle                                    74778.230000   \n",
       "                         Tucumán Yerba Buena                                      342503.681667   \n",
       "\n",
       "                                                                       superficie_total_en_M2  \\\n",
       "provincia                ciudad                                                                 \n",
       "Bs.As. G.B.A. Zona Norte Bs.As. G.B.A. Zona Norte                                  645.088050   \n",
       "                         Bs.As. G.B.A. Zona Norte Escobar                          454.817680   \n",
       "                         Bs.As. G.B.A. Zona Norte General San Martín               173.680208   \n",
       "                         Bs.As. G.B.A. Zona Norte José C Paz                       309.916667   \n",
       "                         Bs.As. G.B.A. Zona Norte Malvinas Argentinas              573.552727   \n",
       "...                                                                                       ...   \n",
       "Tierra Del Fuego         Tierra Del Fuego Ushuaia                                  160.200000   \n",
       "Tucumán                  Tucumán                                                   416.571429   \n",
       "                         Tucumán San Miguel de Tucumán                             113.263158   \n",
       "                         Tucumán Tafí del Valle                                    156.666667   \n",
       "                         Tucumán Yerba Buena                                       375.000000   \n",
       "\n",
       "                                                                       superficie_cubierta_en_M2  \\\n",
       "provincia                ciudad                                                                    \n",
       "Bs.As. G.B.A. Zona Norte Bs.As. G.B.A. Zona Norte                                     200.819149   \n",
       "                         Bs.As. G.B.A. Zona Norte Escobar                             192.322324   \n",
       "                         Bs.As. G.B.A. Zona Norte General San Martín                  123.607385   \n",
       "                         Bs.As. G.B.A. Zona Norte José C Paz                          136.576923   \n",
       "                         Bs.As. G.B.A. Zona Norte Malvinas Argentinas                 258.690000   \n",
       "...                                                                                          ...   \n",
       "Tierra Del Fuego         Tierra Del Fuego Ushuaia                                     120.600000   \n",
       "Tucumán                  Tucumán                                                      257.285714   \n",
       "                         Tucumán San Miguel de Tucumán                                 73.565789   \n",
       "                         Tucumán Tafí del Valle                                       156.666667   \n",
       "                         Tucumán Yerba Buena                                          191.583333   \n",
       "\n",
       "                                                                       Precio_en_Dolares_por_M2  \\\n",
       "provincia                ciudad                                                                   \n",
       "Bs.As. G.B.A. Zona Norte Bs.As. G.B.A. Zona Norte                                   1542.439300   \n",
       "                         Bs.As. G.B.A. Zona Norte Escobar                           2381.931441   \n",
       "                         Bs.As. G.B.A. Zona Norte General San Martín                2451.126893   \n",
       "                         Bs.As. G.B.A. Zona Norte José C Paz                        1405.997286   \n",
       "                         Bs.As. G.B.A. Zona Norte Malvinas Argentinas               2420.914997   \n",
       "...                                                                                         ...   \n",
       "Tierra Del Fuego         Tierra Del Fuego Ushuaia                                   2868.115101   \n",
       "Tucumán                  Tucumán                                                     990.347769   \n",
       "                         Tucumán San Miguel de Tucumán                              2893.278779   \n",
       "                         Tucumán Tafí del Valle                                      469.982977   \n",
       "                         Tucumán Yerba Buena                                        1723.605609   \n",
       "\n",
       "                                                                       precio_por_M2  \n",
       "provincia                ciudad                                                       \n",
       "Bs.As. G.B.A. Zona Norte Bs.As. G.B.A. Zona Norte                        1969.086181  \n",
       "                         Bs.As. G.B.A. Zona Norte Escobar                3778.058197  \n",
       "                         Bs.As. G.B.A. Zona Norte General San Martín     2475.599835  \n",
       "                         Bs.As. G.B.A. Zona Norte José C Paz             1906.384351  \n",
       "                         Bs.As. G.B.A. Zona Norte Malvinas Argentinas    3348.426497  \n",
       "...                                                                              ...  \n",
       "Tierra Del Fuego         Tierra Del Fuego Ushuaia                       13661.593086  \n",
       "Tucumán                  Tucumán                                        14719.738422  \n",
       "                         Tucumán San Miguel de Tucumán                  24578.797662  \n",
       "                         Tucumán Tafí del Valle                          8380.032206  \n",
       "                         Tucumán Yerba Buena                            29223.713565  \n",
       "\n",
       "[456 rows x 7 columns]"
      ]
     },
     "execution_count": 26,
     "metadata": {},
     "output_type": "execute_result"
    }
   ],
   "source": [
    "precio_M2_dolar_sin_nulos = data1.dropna(axis=0, subset=['Precio_en_Dolares_por_M2'])\n",
    "data_3 =precio_M2_dolar_sin_nulos.groupby(['provincia', 'ciudad'])\n",
    "data_sin_place_name = data_3.mean()\n",
    "data_sin_place_name"
   ]
  },
  {
   "cell_type": "markdown",
   "metadata": {},
   "source": [
    "Guardamos las columnas 'ciudad' y 'Precio_en_Dolares_por_M2' en dos listas que luego transformamos en un diccionario."
   ]
  },
  {
   "cell_type": "code",
   "execution_count": 27,
   "metadata": {},
   "outputs": [],
   "source": [
    "dic_ciudad = precio_M2_dolar_sin_nulos['ciudad'].tolist()\n",
    "ciudad_unq_lista = np.unique(dic_ciudad)\n",
    "\n",
    "precios_unq_lista=data_sin_place_name['Precio_en_Dolares_por_M2']\n",
    "\n"
   ]
  },
  {
   "cell_type": "code",
   "execution_count": 28,
   "metadata": {},
   "outputs": [
    {
     "data": {
      "text/plain": [
       "{'Bs.As. G.B.A. Zona Norte': 1542.4393004995868,\n",
       " 'Bs.As. G.B.A. Zona Norte Escobar': 2381.931440510033,\n",
       " 'Bs.As. G.B.A. Zona Norte General San Martín': 2451.126892876558,\n",
       " 'Bs.As. G.B.A. Zona Norte José C Paz': 1405.997286296219,\n",
       " 'Bs.As. G.B.A. Zona Norte Malvinas Argentinas': 2420.914997426306,\n",
       " 'Bs.As. G.B.A. Zona Norte Pilar': 3023.1259335659042,\n",
       " 'Bs.As. G.B.A. Zona Norte San Fernando': 2431.3259361019655,\n",
       " 'Bs.As. G.B.A. Zona Norte San Isidro': 2883.474412348106,\n",
       " 'Bs.As. G.B.A. Zona Norte San Miguel': 1763.123512290102,\n",
       " 'Bs.As. G.B.A. Zona Norte Tigre': 3255.2131760354177,\n",
       " 'Bs.As. G.B.A. Zona Norte Vicente López': 2998.9045828794688,\n",
       " 'Bs.As. G.B.A. Zona Oeste': 1475.9294353751095,\n",
       " 'Bs.As. G.B.A. Zona Oeste General Rodríguez': 1930.6898874614437,\n",
       " 'Bs.As. G.B.A. Zona Oeste Hurlingham': 19934.356827987333,\n",
       " 'Bs.As. G.B.A. Zona Oeste Ituzaingó': 1911.5120122890185,\n",
       " 'Bs.As. G.B.A. Zona Oeste La Matanza': 2799.836092770529,\n",
       " 'Bs.As. G.B.A. Zona Oeste Marcos Paz': 7209.545475980371,\n",
       " 'Bs.As. G.B.A. Zona Oeste Merlo': 2015.7549016429075,\n",
       " 'Bs.As. G.B.A. Zona Oeste Moreno': 1781.8784543994961,\n",
       " 'Bs.As. G.B.A. Zona Oeste Morón': 3021.9635001918614,\n",
       " 'Bs.As. G.B.A. Zona Oeste Tres de Febrero': 2513.239515059324,\n",
       " 'Bs.As. G.B.A. Zona Sur': 1398.120544589147,\n",
       " 'Bs.As. G.B.A. Zona Sur Almirante Brown': 1859.1702102115112,\n",
       " 'Bs.As. G.B.A. Zona Sur Avellaneda': 3501.7644182074573,\n",
       " 'Bs.As. G.B.A. Zona Sur Berazategui': 7629.788600452211,\n",
       " 'Bs.As. G.B.A. Zona Sur Cañuelas': 1580.3159728347991,\n",
       " 'Bs.As. G.B.A. Zona Sur Esteban Echeverría': 1808.427521779094,\n",
       " 'Bs.As. G.B.A. Zona Sur Ezeiza': 2167.988715127253,\n",
       " 'Bs.As. G.B.A. Zona Sur Florencio Varela': 1627.5495416038057,\n",
       " 'Bs.As. G.B.A. Zona Sur La Plata': 1690.2899636061277,\n",
       " 'Bs.As. G.B.A. Zona Sur Lanús': 10628.860944673537,\n",
       " 'Bs.As. G.B.A. Zona Sur Lomas de Zamora': 2209.589226190839,\n",
       " 'Bs.As. G.B.A. Zona Sur Presidente Perón': 4300.769283136572,\n",
       " 'Bs.As. G.B.A. Zona Sur Quilmes': 5996.089147763582,\n",
       " 'Bs.As. G.B.A. Zona Sur San Vicente': 3632.6250753418954,\n",
       " 'Buenos Aires Costa Atlántica': 1162.9447824902372,\n",
       " 'Buenos Aires Costa Atlántica Aguas Verdes': 900.768357571339,\n",
       " 'Buenos Aires Costa Atlántica Camet': 1069.4444444444446,\n",
       " 'Buenos Aires Costa Atlántica Cariló': 2184.0246385105647,\n",
       " 'Buenos Aires Costa Atlántica Chapadmalal': 1263.6904761904761,\n",
       " 'Buenos Aires Costa Atlántica Claromecó': 1071.7603172863157,\n",
       " 'Buenos Aires Costa Atlántica Costa Azul': 1248.0235389610389,\n",
       " 'Buenos Aires Costa Atlántica Costa Esmeralda': 2046.801349862082,\n",
       " 'Buenos Aires Costa Atlántica Costa del Este': 4301.459455956742,\n",
       " 'Buenos Aires Costa Atlántica Dunamar': 1477.0370370370372,\n",
       " 'Buenos Aires Costa Atlántica La Lucila del Mar': 1239.4968487334156,\n",
       " 'Buenos Aires Costa Atlántica Las Gaviotas': 2978.723404255319,\n",
       " 'Buenos Aires Costa Atlántica Las Toninas': 1067.6941668182424,\n",
       " 'Buenos Aires Costa Atlántica Mar Azul': 1752.9559962884316,\n",
       " 'Buenos Aires Costa Atlántica Mar Chiquita': 1201.8910913647755,\n",
       " 'Buenos Aires Costa Atlántica Mar de Ajó': 1212.3173893279757,\n",
       " 'Buenos Aires Costa Atlántica Mar de Cobo': 1666.6666666666667,\n",
       " 'Buenos Aires Costa Atlántica Mar de las Pampas': 1869.5488620618632,\n",
       " 'Buenos Aires Costa Atlántica Mar del Plata': 1828.9591072052785,\n",
       " 'Buenos Aires Costa Atlántica Mar del Sur': 1133.592352052794,\n",
       " 'Buenos Aires Costa Atlántica Mar del Tuyú': 1277.2763397448412,\n",
       " 'Buenos Aires Costa Atlántica Miramar': 1388.6816847365656,\n",
       " 'Buenos Aires Costa Atlántica Monte Hermoso': 2189.8863343552994,\n",
       " 'Buenos Aires Costa Atlántica Necochea': 1022.6769531172879,\n",
       " 'Buenos Aires Costa Atlántica Nueva Atlantis': 1142.652382280596,\n",
       " 'Buenos Aires Costa Atlántica Ostende': 1996.8261470079685,\n",
       " 'Buenos Aires Costa Atlántica Pehuen-có': 1120.6896551724137,\n",
       " 'Buenos Aires Costa Atlántica Pinamar': 2149.265247127992,\n",
       " 'Buenos Aires Costa Atlántica Punta Alta': 1075.8021176470588,\n",
       " 'Buenos Aires Costa Atlántica Reta': 735.2941176470588,\n",
       " 'Buenos Aires Costa Atlántica San Bernardo': 1292.6288016358021,\n",
       " 'Buenos Aires Costa Atlántica San Clemente del Tuyú': 1238.1798721312787,\n",
       " 'Buenos Aires Costa Atlántica Santa Clara del Mar': 1065.5424117826483,\n",
       " 'Buenos Aires Costa Atlántica Santa Teresita': 5287.230652815306,\n",
       " 'Buenos Aires Costa Atlántica Valeria del Mar': 2280.9378844289067,\n",
       " 'Buenos Aires Costa Atlántica Villa Gesell': 1902.6742788230135,\n",
       " 'Buenos Aires Interior': 2332.663594817554,\n",
       " 'Buenos Aires Interior Azul': 1841.601798911997,\n",
       " 'Buenos Aires Interior Bahía Blanca': 1372.146326914974,\n",
       " 'Buenos Aires Interior Balcarce': 1043.3525691016764,\n",
       " 'Buenos Aires Interior Baradero': 13872.885534304218,\n",
       " 'Buenos Aires Interior Berisso': 1167.1556350743724,\n",
       " 'Buenos Aires Interior Brandsen': 2949.985455851381,\n",
       " 'Buenos Aires Interior Campana': 2756.9364426959332,\n",
       " 'Buenos Aires Interior Capitán Sarmiento': 813.557372610696,\n",
       " 'Buenos Aires Interior Carlos Casares': 1772.7272727272727,\n",
       " 'Buenos Aires Interior Chascomús': 2083.0013262915336,\n",
       " 'Buenos Aires Interior Chivilcoy': 2666.50452595811,\n",
       " 'Buenos Aires Interior Coronel Dorrego': 716.1764705882354,\n",
       " 'Buenos Aires Interior Coronel Suárez': 987.2527972128465,\n",
       " 'Buenos Aires Interior Ensenada': 1460.2018714952178,\n",
       " 'Buenos Aires Interior Exaltación de la Cruz': 1874.591413180319,\n",
       " 'Buenos Aires Interior General Alvarado': 857.4177114384773,\n",
       " 'Buenos Aires Interior General Alvear': 1000.0,\n",
       " 'Buenos Aires Interior General Las Heras': 862.0960884353741,\n",
       " 'Buenos Aires Interior General Madariaga': 1040.926238675522,\n",
       " 'Buenos Aires Interior General Pinto': 1950.0,\n",
       " 'Buenos Aires Interior General Pueyrredón': 1640.7899559436848,\n",
       " 'Buenos Aires Interior J A de la Peña': 10000.0,\n",
       " 'Buenos Aires Interior Junín': 1346.0082,\n",
       " 'Buenos Aires Interior Laprida': 1055.5555555555557,\n",
       " 'Buenos Aires Interior Lincoln': 1025.6410256410256,\n",
       " 'Buenos Aires Interior Lobería': 1147.9028697571744,\n",
       " 'Buenos Aires Interior Lobos': 1386.846048181606,\n",
       " 'Buenos Aires Interior Luján': 1432.330930209316,\n",
       " 'Buenos Aires Interior Mercedes': 1059.3730541553296,\n",
       " 'Buenos Aires Interior Navarro': 1629.8076923076924,\n",
       " 'Buenos Aires Interior Olavarría': 204.62633451957296,\n",
       " 'Buenos Aires Interior Patagones': 1454.5454545454545,\n",
       " 'Buenos Aires Interior Pehuajó': 703.7785838756712,\n",
       " 'Buenos Aires Interior Pergamino': 927.7286975573778,\n",
       " 'Buenos Aires Interior Punta Indio': 689.1666666666666,\n",
       " 'Buenos Aires Interior Ramallo': 810.8108108108108,\n",
       " 'Buenos Aires Interior Rancagua': 20000.0,\n",
       " 'Buenos Aires Interior Rivadavia': 10477.319144778103,\n",
       " 'Buenos Aires Interior San Andrés de Giles': 1094.133779264214,\n",
       " 'Buenos Aires Interior San Antonio de Areco': 1333.1602981004712,\n",
       " 'Buenos Aires Interior San Cayetano': 1428.5714285714287,\n",
       " 'Buenos Aires Interior San Miguel del Monte': 1488.2477677084014,\n",
       " 'Buenos Aires Interior San Nicolás de los Arroyos': 8750.0,\n",
       " 'Buenos Aires Interior San Pedro': 1281.9635482874878,\n",
       " 'Buenos Aires Interior Suipacha': 1250.0,\n",
       " 'Buenos Aires Interior Tandil': 1798.7600682917644,\n",
       " 'Buenos Aires Interior Tornquist': 1371.3235294117649,\n",
       " 'Buenos Aires Interior Trenque Lauquen': 1412.3627282235973,\n",
       " 'Buenos Aires Interior Tres Arroyos': 1007.7275312007655,\n",
       " 'Buenos Aires Interior Veinticinco de Mayo': 860.9251704545455,\n",
       " 'Buenos Aires Interior Zárate': 2519.4706452766964,\n",
       " 'Capital Federal': 2492.7279038792008,\n",
       " 'Capital Federal Abasto': 2308.6369157153545,\n",
       " 'Capital Federal Agronomía': 2677.582445723102,\n",
       " 'Capital Federal Almagro': 2994.996134118979,\n",
       " 'Capital Federal Balvanera': 2129.4500189584915,\n",
       " 'Capital Federal Barracas': 2260.0464081471514,\n",
       " 'Capital Federal Barrio Norte': 3429.3588911350703,\n",
       " 'Capital Federal Belgrano': 3597.8749590298,\n",
       " 'Capital Federal Boca': 2382.8584522801702,\n",
       " 'Capital Federal Boedo': 10413.258848144103,\n",
       " 'Capital Federal Caballito': 3167.98116572554,\n",
       " 'Capital Federal Catalinas': 2486.651411136537,\n",
       " 'Capital Federal Centro / Microcentro': 3099.753604856579,\n",
       " 'Capital Federal Chacarita': 2478.407924967047,\n",
       " 'Capital Federal Coghlan': 2852.8890347535635,\n",
       " 'Capital Federal Colegiales': 3155.6334389647363,\n",
       " 'Capital Federal Congreso': 2981.8106585857854,\n",
       " 'Capital Federal Constitución': 1996.3791798793725,\n",
       " 'Capital Federal Flores': 2459.4363074655525,\n",
       " 'Capital Federal Floresta': 2037.2651634449599,\n",
       " 'Capital Federal Las Cañitas': 3918.2061213450056,\n",
       " 'Capital Federal Liniers': 2119.561973339716,\n",
       " 'Capital Federal Mataderos': 2007.63590024818,\n",
       " 'Capital Federal Monserrat': 2676.022644024349,\n",
       " 'Capital Federal Monte Castro': 8633.318373446513,\n",
       " 'Capital Federal Nuñez': 3701.53523857418,\n",
       " 'Capital Federal Once': 2668.051584841725,\n",
       " 'Capital Federal Palermo': inf,\n",
       " 'Capital Federal Parque Avellaneda': 1970.266327222014,\n",
       " 'Capital Federal Parque Centenario': 2520.0444164558435,\n",
       " 'Capital Federal Parque Chacabuco': 2666.5347535792766,\n",
       " 'Capital Federal Parque Chas': 2659.457148527267,\n",
       " 'Capital Federal Parque Patricios': 2497.3402925479486,\n",
       " 'Capital Federal Paternal': 5771.525493466639,\n",
       " 'Capital Federal Pompeya': 2921.822967818805,\n",
       " 'Capital Federal Puerto Madero': 11595.662889321984,\n",
       " 'Capital Federal Recoleta': 3840.2175441079867,\n",
       " 'Capital Federal Retiro': 3469.3924938859054,\n",
       " 'Capital Federal Saavedra': 3031.522682693033,\n",
       " 'Capital Federal San Cristobal': 8874.589981037849,\n",
       " 'Capital Federal San Nicolás': 2552.542944852892,\n",
       " 'Capital Federal San Telmo': inf,\n",
       " 'Capital Federal Tribunales': 2876.226038361473,\n",
       " 'Capital Federal Velez Sarsfield': 3082.567846541766,\n",
       " 'Capital Federal Versalles': 17875.944027761885,\n",
       " 'Capital Federal Villa Crespo': 3017.6970619930494,\n",
       " 'Capital Federal Villa Devoto': 5724.887551037041,\n",
       " 'Capital Federal Villa General Mitre': 2307.731977749243,\n",
       " 'Capital Federal Villa Lugano': 4695.603312293027,\n",
       " 'Capital Federal Villa Luro': 2710.1452141591353,\n",
       " 'Capital Federal Villa Ortuzar': 2951.120425352103,\n",
       " 'Capital Federal Villa Pueyrredón': 2582.1136622998097,\n",
       " 'Capital Federal Villa Real': 2034.2429611143184,\n",
       " 'Capital Federal Villa Riachuelo': 2938.233397807866,\n",
       " 'Capital Federal Villa Santa Rita': 37884.72848432743,\n",
       " 'Capital Federal Villa Soldati': 975.3071684156997,\n",
       " 'Capital Federal Villa Urquiza': 3159.02278251327,\n",
       " 'Capital Federal Villa del Parque': 5561.061698216813,\n",
       " 'Catamarca': 1250.6219034581543,\n",
       " 'Catamarca Agua Blanca': 630.0,\n",
       " 'Catamarca La Falda': 1230.7692307692307,\n",
       " 'Catamarca Manantiales': 4064.9974342454225,\n",
       " 'Catamarca Santa María': 500.35199519230764,\n",
       " 'Chaco Barranqueras': 960.3369178082191,\n",
       " 'Chaco Colonia Benitez': 510.94890510948903,\n",
       " 'Chaco Pampa del Infierno': 283.54314999999997,\n",
       " 'Chaco Presidencia Roque Sáenz Peña': 998.682440755013,\n",
       " 'Chaco Resistencia': 1366.750164578977,\n",
       " 'Chubut Comodoro Rivadavia': 7771.019720742084,\n",
       " 'Chubut Corcovado': 2454.5454545454545,\n",
       " 'Chubut Cushamen': 5260.819350070128,\n",
       " 'Chubut Escalante': 2042.3929094792256,\n",
       " 'Chubut Esquel': 924.8607727114514,\n",
       " 'Chubut Lago Epuyén': 2000.0,\n",
       " 'Chubut Rada Tilly': 2409.5238095238096,\n",
       " 'Chubut Trevelín': 1508.3333333333333,\n",
       " 'Corrientes': 2162.162162162162,\n",
       " 'Corrientes Bella Vista': 1907.4074074074076,\n",
       " 'Corrientes Corrientes': 2568.627450980392,\n",
       " 'Corrientes Ituzaingó': 1875.977302806616,\n",
       " 'Corrientes Mburucuyá': 2018.2427351017243,\n",
       " 'Corrientes Paso de la Patria': 1495.5646666666667,\n",
       " 'Corrientes Paso de los Libres': 1250.0,\n",
       " 'Córdoba': 1806.8483034631713,\n",
       " 'Córdoba Achiras': 1428.5714285714287,\n",
       " 'Córdoba Agua de Oro': 924.1204232773595,\n",
       " 'Córdoba Almafuerte': 450.30686131386864,\n",
       " 'Córdoba Alta Gracia': 2446.723247512721,\n",
       " 'Córdoba Anisacate': 703.8813825795436,\n",
       " 'Córdoba Ascochinga': 728.5862631657023,\n",
       " 'Córdoba Bialet Massé': 938.4230194805195,\n",
       " 'Córdoba Cabalango': 4261.3933996856995,\n",
       " 'Córdoba Calmayo': 1000.0,\n",
       " 'Córdoba Capilla del Monte': 697.2118581793238,\n",
       " 'Córdoba Casa Grande': 816.6666666666666,\n",
       " 'Córdoba Colonia Caroya': 899.1832323331059,\n",
       " 'Córdoba Colonia Tirolesa': 669.7104893242993,\n",
       " 'Córdoba Cosquín': 1889.006211205273,\n",
       " 'Córdoba Cruz del Eje': 10750.877192982456,\n",
       " 'Córdoba Córdoba': 2898.0102476221323,\n",
       " 'Córdoba Despeñaderos': 404.03151452991455,\n",
       " 'Córdoba El Manzano': 405.04866666666663,\n",
       " 'Córdoba General Cabrera': 661.6613483146067,\n",
       " 'Córdoba Hernando': 591.2596401028278,\n",
       " 'Córdoba Huerta Grande': 424.5741705820106,\n",
       " 'Córdoba Jesús María': 918.7297982700851,\n",
       " 'Córdoba La Calera': 2091.9000505787085,\n",
       " 'Córdoba La Cumbre': 2306.9444444444443,\n",
       " 'Córdoba La Cumbrecita': 2068.9655172413795,\n",
       " 'Córdoba La Falda': 717.0386370178298,\n",
       " 'Córdoba La Granja': 810.4759334129444,\n",
       " 'Córdoba La Paz': 988.1258566666666,\n",
       " 'Córdoba Laboulaye': 1000.0,\n",
       " 'Córdoba Las Calles': 19454.545454545456,\n",
       " 'Córdoba Los Cocos': 529.220388414055,\n",
       " 'Córdoba Los Hornillos': 1187.5,\n",
       " 'Córdoba Los Molinos': 1623.5341151385928,\n",
       " 'Córdoba Los Reartes': 1123.7352931715623,\n",
       " 'Córdoba Luque': 941.1989068198952,\n",
       " 'Córdoba Malagueño': 817.5718230852744,\n",
       " 'Córdoba Malvinas Argentinas': 721.997875,\n",
       " 'Córdoba Manfredi': 178.44799999999998,\n",
       " 'Córdoba Mayu Sumaj': 872.4882838709677,\n",
       " 'Córdoba Mendiolaza': 2678.802193624119,\n",
       " 'Córdoba Mina Clavero': 3434.3885820473656,\n",
       " 'Córdoba Monte Cristo': 16000.0,\n",
       " 'Córdoba Nono': 1566.590909090909,\n",
       " 'Córdoba Obispo Trejo': 280.41830000000004,\n",
       " 'Córdoba Oliva': 5834.725544808532,\n",
       " 'Córdoba Oncativo': 587.9797779031849,\n",
       " 'Córdoba Potrero de Garay': 1099.9786796474589,\n",
       " 'Córdoba Punilla': 1232.0548636630183,\n",
       " 'Córdoba Río Ceballos': 3886.056714060017,\n",
       " 'Córdoba Río Cuarto': 1277.7603146733438,\n",
       " 'Córdoba Río Primero': 717.9861916461917,\n",
       " 'Córdoba Río Segundo': 2804.1835,\n",
       " 'Córdoba Río Tercero': 954.2621261143134,\n",
       " 'Córdoba Río de Los Sauces': 576.036866359447,\n",
       " 'Córdoba Saldán': 537.8518437236066,\n",
       " 'Córdoba Salsipuedes': 853.3190704709235,\n",
       " 'Córdoba San Antonio de Arredondo': 1568.9949297362182,\n",
       " 'Córdoba San Francisco': 2056.4013333333332,\n",
       " 'Córdoba San Lorenzo': 311.5758888888889,\n",
       " 'Córdoba San Roque': 807.5709925249171,\n",
       " 'Córdoba San Vicente': 460.1226993865031,\n",
       " 'Córdoba Santa Catalina': 299.11293333333333,\n",
       " 'Córdoba Santa María': 1335.3884373270466,\n",
       " 'Córdoba Santa Rosa de Calamuchita': 1245.4693285929125,\n",
       " 'Córdoba Tancacha': 1052.6315789473683,\n",
       " 'Córdoba Tanti': 660.6656943810189,\n",
       " 'Córdoba Unquillo': 1013.2130043759694,\n",
       " 'Córdoba Valle Hermoso': 854.1666666666666,\n",
       " 'Córdoba Villa Allende': 1946.7015380435053,\n",
       " 'Córdoba Villa Amancay': 1121.6735,\n",
       " 'Córdoba Villa Carlos Paz': 3681.277238213468,\n",
       " 'Córdoba Villa Cerro Azul': 630.418375,\n",
       " 'Córdoba Villa Ciudad de América': 640.0,\n",
       " 'Córdoba Villa Cura Brochero': 1174.7342814885608,\n",
       " 'Córdoba Villa Dolores': 697.8152995391706,\n",
       " 'Córdoba Villa Fontana': 1072.961373390558,\n",
       " 'Córdoba Villa General Belgrano': 21372.39995219628,\n",
       " 'Córdoba Villa Giardino': 824.9549549549549,\n",
       " 'Córdoba Villa Icho Cruz': 775.0,\n",
       " 'Córdoba Villa Los Aromos': 933.8235294117646,\n",
       " 'Córdoba Villa María': 1134.0394550897975,\n",
       " 'Córdoba Villa Parque Santa Ana': 1078.1683643489382,\n",
       " 'Córdoba Villa Parque Siquiman': 4583.333333333333,\n",
       " 'Córdoba Villa Rumipal': 990.2840176071993,\n",
       " 'Córdoba Villa Santa Cruz del Lago': 2418.5515387240675,\n",
       " 'Córdoba Villa de Las Rosas': 859.7222222222222,\n",
       " 'Córdoba Villa de Soto': 721.7586278409091,\n",
       " 'Córdoba Villa del Dique': 1259.2143066906947,\n",
       " 'Córdoba Villa del Totoral': 695.202760388326,\n",
       " 'Entre Ríos Aldea Brasilera': 1083.3333333333333,\n",
       " 'Entre Ríos Alejandro Roca': 39062.5,\n",
       " 'Entre Ríos Caseros': 1263.157894736842,\n",
       " 'Entre Ríos Chajarí': 1047.6190476190477,\n",
       " 'Entre Ríos Colón': 1759.0000720788871,\n",
       " 'Entre Ríos Concepción del Uruguay': 1034.7560904761906,\n",
       " 'Entre Ríos Concordia': 1201.75812826006,\n",
       " 'Entre Ríos Costa Uruguay Sur': 831.3253012048193,\n",
       " 'Entre Ríos Gualeguaychú': 916.6666666666666,\n",
       " 'Entre Ríos María Grande': 1515.7748648648649,\n",
       " 'Entre Ríos Oro Verde': 1135.0266666666666,\n",
       " 'Entre Ríos Paraná': 1175.3364950902444,\n",
       " 'Entre Ríos San Benito': 405.3090256410257,\n",
       " 'Entre Ríos Victoria': 1385.9011627906975,\n",
       " 'Entre Ríos Villa Paranacito': 1375.0,\n",
       " 'Entre Ríos Villa Urquiza': 3566.878306878307,\n",
       " 'Jujuy': 1872.5,\n",
       " 'Jujuy San Antonio': 260.78905,\n",
       " 'Jujuy San Salvador de Jujuy': 3713.372877305207,\n",
       " 'La Pampa General Pico': 694.6136266666666,\n",
       " 'La Pampa Perú': 5200.0,\n",
       " 'La Pampa Quemú Quemú': 392.5857,\n",
       " 'La Pampa Santa Rosa': 1078.7015841148311,\n",
       " 'La Rioja': 243.02923333333334,\n",
       " 'La Rioja La Rioja': 544.4444444444445,\n",
       " 'Mendoza': 1875.7952457474355,\n",
       " 'Mendoza Buena Nueva': 5979.516992592592,\n",
       " 'Mendoza Capilla del Rosario': 7777.777777777777,\n",
       " 'Mendoza Chacras de Coria': 1072.961373390558,\n",
       " 'Mendoza Dorrego': 336.50203999999997,\n",
       " 'Mendoza El Sauce': 2928.5491666666667,\n",
       " 'Mendoza Gobernador Benegas': 625.0,\n",
       " 'Mendoza Godoy Cruz': 1013.6457274233647,\n",
       " 'Mendoza Junín': 955.9717045454545,\n",
       " 'Mendoza Las Heras': 1713.7956433968154,\n",
       " 'Mendoza Luján de Cuyo': 1161.400425090258,\n",
       " 'Mendoza Maipú': 900.0697229017313,\n",
       " 'Mendoza Malargüe': 2125.0,\n",
       " 'Mendoza Mendoza': 1949.7234647660168,\n",
       " 'Mendoza Potrerillos': 1363.6363636363637,\n",
       " 'Mendoza Rodeo de la Cruz': 402.49660000000006,\n",
       " 'Mendoza San Carlos': 605.3726243386244,\n",
       " 'Mendoza San Francisco del Monte': 22619.04761904762,\n",
       " 'Mendoza San Martín': 1750.0,\n",
       " 'Mendoza San Rafael': 5889.281893919041,\n",
       " 'Mendoza San Roque': 1562.1874507330758,\n",
       " 'Mendoza Tunuyán': 925.3805749999999,\n",
       " 'Mendoza Villa Nueva': 12500.0,\n",
       " 'Misiones': 7549.772715479375,\n",
       " 'Misiones Apóstoles': 1694.1176470588234,\n",
       " 'Misiones Azara': 216.66485714285713,\n",
       " 'Misiones Candelaria': 1413.3401666666668,\n",
       " 'Misiones Cerro Azul': 2635.932,\n",
       " 'Misiones El Dorado': 1062.5,\n",
       " 'Misiones Garuhapé': 133.33333333333334,\n",
       " 'Misiones Garupá': 1658.2450158249158,\n",
       " 'Misiones Oberá': 1118.7381826923076,\n",
       " 'Misiones Posadas': 2425.4562876131617,\n",
       " 'Misiones Puerto Esperanza': 552.6315789473684,\n",
       " 'Misiones Puerto Iguazú': 5182.692307692308,\n",
       " 'Neuquén Centenario': 1368.5556064549714,\n",
       " 'Neuquén Confluencia': 1810.876804223515,\n",
       " 'Neuquén Junin de los Andes': 1274.0020444444444,\n",
       " 'Neuquén Lácar': 2697.253927805693,\n",
       " 'Neuquén Neuquén': 2361.811725259681,\n",
       " 'Neuquén Plottier': 7396.704958333334,\n",
       " 'Neuquén Rincón de los Sauces': 746.32341212048,\n",
       " 'Neuquén San Martín de los Andes': 2604.6961953780637,\n",
       " 'Neuquén Villa La Angostura': 2834.026003833403,\n",
       " 'Río Negro': 1408.7693924179985,\n",
       " 'Río Negro Choele Choel': 1219.210347826087,\n",
       " 'Río Negro Cipolletti': 1488.2015671525044,\n",
       " 'Río Negro Dina Huapi': 3113.2075471698113,\n",
       " 'Río Negro General Fernández Oro': 1894.7368421052631,\n",
       " 'Río Negro General Roca': 1962.4774594694682,\n",
       " 'Río Negro Las Grutas': 1166.6666666666667,\n",
       " 'Río Negro San Carlos de Bariloche': 2927.8110874195027,\n",
       " 'Río Negro Viedma': 3693.312176528981,\n",
       " 'Río Negro Villa Llao Llao': 3250.0,\n",
       " 'Salta': 1205.3554336858074,\n",
       " 'Salta Cafayate': 5047.53075,\n",
       " 'Salta Campo Quijano': 925.925925925926,\n",
       " 'Salta Cerrillos': 884.4800985890653,\n",
       " 'Salta Coronel Moldes': 1028.3033333333333,\n",
       " 'Salta La Caldera': 1762.7949,\n",
       " 'Salta Salta': 3305.1989972880456,\n",
       " 'San Juan Rawson': 1589.0375,\n",
       " 'San Juan San Juan': 899.4551886792453,\n",
       " 'San Juan Trinidad': 3191.4893617021276,\n",
       " 'San Juan Villa Mercedes': 291.66422222222224,\n",
       " 'San Luis': 1013.6759407419966,\n",
       " 'San Luis Carpintería': 1371.4285714285716,\n",
       " 'San Luis El Trapiche': 2019.0123,\n",
       " 'San Luis El Volcán': 941.5507777777779,\n",
       " 'San Luis Juana Koslay': 1237.464844023401,\n",
       " 'San Luis La Punta': 3662.3064368038395,\n",
       " 'San Luis Merlo': 1548.8315544693767,\n",
       " 'San Luis Potrero de los Funes': 1225.5674601452188,\n",
       " 'San Luis San Luis': 10071.533896950845,\n",
       " 'San Luis Tilisarao': 909.0909090909091,\n",
       " 'San Luis Villa Larca': 800.0,\n",
       " 'Santa Cruz Caleta Olivia': 870.3904568253968,\n",
       " 'Santa Cruz Cañadón Seco': 1029.272225743007,\n",
       " 'Santa Cruz El Calafate': 2166.6666666666665,\n",
       " 'Santa Cruz Güer Aike': 1274.5098039215686,\n",
       " 'Santa Fe': 1230.0051836728471,\n",
       " 'Santa Fe Alvear': 1229.1671666666666,\n",
       " 'Santa Fe Arequito': 1438.3561643835617,\n",
       " 'Santa Fe Arroyo Ceibal': 4486.694,\n",
       " 'Santa Fe Arroyo Seco': 1111.111111111111,\n",
       " 'Santa Fe Capitán Bermúdez': 718.415104147628,\n",
       " 'Santa Fe Castellanos': 202.76405128205127,\n",
       " 'Santa Fe Colastiné': 3925.857,\n",
       " 'Santa Fe Coronda': 719.9931081081081,\n",
       " 'Santa Fe Empalme Villa Constitución': 911.3596666666667,\n",
       " 'Santa Fe Esperanza': 686.1276819246852,\n",
       " 'Santa Fe Fighiera': 327.15475,\n",
       " 'Santa Fe Franck': 1355.3555000000001,\n",
       " 'Santa Fe Fray Luis Beltrán': 546.8158083333333,\n",
       " 'Santa Fe Funes': 1411.6654542372837,\n",
       " 'Santa Fe Granadero Baigorria': 788.7626464705434,\n",
       " 'Santa Fe Gálvez': 653.2368803278688,\n",
       " 'Santa Fe Ibarlucea': 1194.0727786329485,\n",
       " 'Santa Fe Iriondo': 1407.5016706997803,\n",
       " 'Santa Fe Las Rosas': 795.3734426229508,\n",
       " 'Santa Fe Los Laureles': 1362.5510204081634,\n",
       " 'Santa Fe Malabrigo': 1078.5322307692309,\n",
       " 'Santa Fe María Juana': 449.7275471698114,\n",
       " 'Santa Fe Monte Vera': 9.38850058500585,\n",
       " 'Santa Fe Murphy': 468.75,\n",
       " 'Santa Fe Nelson': 186.94558333333333,\n",
       " 'Santa Fe Oliveros': 1600.0,\n",
       " 'Santa Fe Pueblo Andino': 753.8461538461538,\n",
       " 'Santa Fe Pueblo Esther': 723.6842105263158,\n",
       " 'Santa Fe Pérez': 990.0,\n",
       " 'Santa Fe Rafaela': 1467.827384219554,\n",
       " 'Santa Fe Reconquista': 472.0733403474665,\n",
       " 'Santa Fe Recreo': 522.7172583333333,\n",
       " 'Santa Fe Ricardone': 687.0235409090908,\n",
       " 'Santa Fe Roldán': 1132.517417558446,\n",
       " 'Santa Fe Rosario': 2637.6492781168727,\n",
       " 'Santa Fe San Carlos Centro': 794.5186666666667,\n",
       " 'Santa Fe San Jerónimo Norte': 1962.9285,\n",
       " 'Santa Fe San Jorge': 1222.119825705758,\n",
       " 'Santa Fe San Justo': 350.5229166666667,\n",
       " 'Santa Fe San Lorenzo': 1320.0377323284147,\n",
       " 'Santa Fe Santa Fe': 2354.4892354773433,\n",
       " 'Santa Fe Santo Tomé': 1570.7035662206715,\n",
       " 'Santa Fe Timbúes': 1160.3518965517242,\n",
       " 'Santa Fe Venado Tuerto': 632.4110671936759,\n",
       " 'Santa Fe Villa Constitución': 801.7719038310368,\n",
       " 'Santiago Del Estero': 1122.182765957447,\n",
       " 'Santiago Del Estero Pinto': 480.0,\n",
       " 'Tierra Del Fuego': 1094.5967229772964,\n",
       " 'Tierra Del Fuego Río Grande': 1359.0824155089624,\n",
       " 'Tierra Del Fuego Ushuaia': 2868.115100978093,\n",
       " 'Tucumán': 990.3477689927782,\n",
       " 'Tucumán San Miguel de Tucumán': 2893.2787793909315,\n",
       " 'Tucumán Tafí del Valle': 469.9829768115942,\n",
       " 'Tucumán Yerba Buena': 1723.6056093475254}"
      ]
     },
     "execution_count": 28,
     "metadata": {},
     "output_type": "execute_result"
    }
   ],
   "source": [
    "dictionary = dict(zip(ciudad_unq_lista, precios_unq_lista))\n",
    "dictionary"
   ]
  },
  {
   "cell_type": "markdown",
   "metadata": {},
   "source": [
    "Verificamos la cantidad de nulos en la columna 'Precio_en_Dolares_por_M2'"
   ]
  },
  {
   "cell_type": "code",
   "execution_count": 29,
   "metadata": {},
   "outputs": [
    {
     "data": {
      "text/plain": [
       "33560"
      ]
     },
     "execution_count": 29,
     "metadata": {},
     "output_type": "execute_result"
    }
   ],
   "source": [
    "data1.Precio_en_Dolares_por_M2.isnull().sum()"
   ]
  },
  {
   "cell_type": "code",
   "execution_count": 30,
   "metadata": {},
   "outputs": [
    {
     "data": {
      "text/plain": [
       "Tipo_de_operacion                 0\n",
       "tipo_de_propiedad                 0\n",
       "ciudad                            0\n",
       "ubicacion                         0\n",
       "provincia                         0\n",
       "precio                        20410\n",
       "currency                      20411\n",
       "Precio_aproximado_en_pesos    20410\n",
       "precio_aproximado_en_USD      20410\n",
       "superficie_total_en_M2        39328\n",
       "superficie_cubierta_en_M2     19907\n",
       "Precio_en_Dolares_por_M2      33560\n",
       "precio_por_M2                 33562\n",
       "place_name_2                      0\n",
       "dtype: int64"
      ]
     },
     "execution_count": 30,
     "metadata": {},
     "output_type": "execute_result"
    }
   ],
   "source": [
    "data1.isnull().sum()"
   ]
  },
  {
   "cell_type": "markdown",
   "metadata": {},
   "source": [
    "Utilizamos el método .fillna para reemplazar los valores nulos utilizando el diccionario creado anteriormente. Volvemos a verificar la cantidad de nulos."
   ]
  },
  {
   "cell_type": "code",
   "execution_count": 31,
   "metadata": {},
   "outputs": [
    {
     "data": {
      "text/plain": [
       "417"
      ]
     },
     "execution_count": 31,
     "metadata": {},
     "output_type": "execute_result"
    }
   ],
   "source": [
    "data1.Precio_en_Dolares_por_M2 = data1.Precio_en_Dolares_por_M2.fillna(data1.ciudad.map(dictionary))\n",
    "data1.Precio_en_Dolares_por_M2.isnull().sum()"
   ]
  },
  {
   "cell_type": "code",
   "execution_count": 32,
   "metadata": {},
   "outputs": [
    {
     "data": {
      "text/plain": [
       "Tipo_de_operacion                 0\n",
       "tipo_de_propiedad                 0\n",
       "ciudad                            0\n",
       "ubicacion                         0\n",
       "provincia                         0\n",
       "precio                        20410\n",
       "currency                      20411\n",
       "Precio_aproximado_en_pesos    20410\n",
       "precio_aproximado_en_USD      20410\n",
       "superficie_total_en_M2        39328\n",
       "superficie_cubierta_en_M2     19907\n",
       "Precio_en_Dolares_por_M2        417\n",
       "precio_por_M2                 33562\n",
       "place_name_2                      0\n",
       "dtype: int64"
      ]
     },
     "execution_count": 32,
     "metadata": {},
     "output_type": "execute_result"
    }
   ],
   "source": [
    "data1.isnull().sum()"
   ]
  },
  {
   "cell_type": "code",
   "execution_count": 33,
   "metadata": {},
   "outputs": [
    {
     "data": {
      "text/plain": [
       "(121220, 14)"
      ]
     },
     "execution_count": 33,
     "metadata": {},
     "output_type": "execute_result"
    }
   ],
   "source": [
    "data1.shape"
   ]
  },
  {
   "cell_type": "markdown",
   "metadata": {},
   "source": [
    "Eliminamos 400 nulos restantes."
   ]
  },
  {
   "cell_type": "code",
   "execution_count": 34,
   "metadata": {},
   "outputs": [
    {
     "data": {
      "text/html": [
       "<div>\n",
       "<style scoped>\n",
       "    .dataframe tbody tr th:only-of-type {\n",
       "        vertical-align: middle;\n",
       "    }\n",
       "\n",
       "    .dataframe tbody tr th {\n",
       "        vertical-align: top;\n",
       "    }\n",
       "\n",
       "    .dataframe thead th {\n",
       "        text-align: right;\n",
       "    }\n",
       "</style>\n",
       "<table border=\"1\" class=\"dataframe\">\n",
       "  <thead>\n",
       "    <tr style=\"text-align: right;\">\n",
       "      <th></th>\n",
       "      <th>Tipo_de_operacion</th>\n",
       "      <th>tipo_de_propiedad</th>\n",
       "      <th>ciudad</th>\n",
       "      <th>ubicacion</th>\n",
       "      <th>provincia</th>\n",
       "      <th>precio</th>\n",
       "      <th>currency</th>\n",
       "      <th>Precio_aproximado_en_pesos</th>\n",
       "      <th>precio_aproximado_en_USD</th>\n",
       "      <th>superficie_total_en_M2</th>\n",
       "      <th>superficie_cubierta_en_M2</th>\n",
       "      <th>Precio_en_Dolares_por_M2</th>\n",
       "      <th>precio_por_M2</th>\n",
       "      <th>place_name_2</th>\n",
       "    </tr>\n",
       "  </thead>\n",
       "  <tbody>\n",
       "    <tr>\n",
       "      <th>0</th>\n",
       "      <td>sell</td>\n",
       "      <td>PH</td>\n",
       "      <td>Capital Federal Mataderos</td>\n",
       "      <td>|Argentina|Capital Federal|Mataderos|</td>\n",
       "      <td>Capital Federal</td>\n",
       "      <td>62000.0</td>\n",
       "      <td>USD</td>\n",
       "      <td>1093959.00</td>\n",
       "      <td>62000.0</td>\n",
       "      <td>55.0</td>\n",
       "      <td>40.0</td>\n",
       "      <td>1550.000000</td>\n",
       "      <td>1550.000000</td>\n",
       "      <td></td>\n",
       "    </tr>\n",
       "    <tr>\n",
       "      <th>1</th>\n",
       "      <td>sell</td>\n",
       "      <td>apartment</td>\n",
       "      <td>Bs.As. G.B.A. Zona Sur La Plata</td>\n",
       "      <td>|Argentina|Bs.As. G.B.A. Zona Sur|La Plata|</td>\n",
       "      <td>Bs.As. G.B.A. Zona Sur</td>\n",
       "      <td>150000.0</td>\n",
       "      <td>USD</td>\n",
       "      <td>2646675.00</td>\n",
       "      <td>150000.0</td>\n",
       "      <td>NaN</td>\n",
       "      <td>NaN</td>\n",
       "      <td>1690.289964</td>\n",
       "      <td>NaN</td>\n",
       "      <td></td>\n",
       "    </tr>\n",
       "    <tr>\n",
       "      <th>2</th>\n",
       "      <td>sell</td>\n",
       "      <td>apartment</td>\n",
       "      <td>Capital Federal Mataderos</td>\n",
       "      <td>|Argentina|Capital Federal|Mataderos|</td>\n",
       "      <td>Capital Federal</td>\n",
       "      <td>72000.0</td>\n",
       "      <td>USD</td>\n",
       "      <td>1270404.00</td>\n",
       "      <td>72000.0</td>\n",
       "      <td>55.0</td>\n",
       "      <td>55.0</td>\n",
       "      <td>1309.090909</td>\n",
       "      <td>1309.090909</td>\n",
       "      <td></td>\n",
       "    </tr>\n",
       "    <tr>\n",
       "      <th>3</th>\n",
       "      <td>sell</td>\n",
       "      <td>PH</td>\n",
       "      <td>Capital Federal Liniers</td>\n",
       "      <td>|Argentina|Capital Federal|Liniers|</td>\n",
       "      <td>Capital Federal</td>\n",
       "      <td>95000.0</td>\n",
       "      <td>USD</td>\n",
       "      <td>1676227.50</td>\n",
       "      <td>95000.0</td>\n",
       "      <td>NaN</td>\n",
       "      <td>NaN</td>\n",
       "      <td>2119.561973</td>\n",
       "      <td>NaN</td>\n",
       "      <td></td>\n",
       "    </tr>\n",
       "    <tr>\n",
       "      <th>4</th>\n",
       "      <td>sell</td>\n",
       "      <td>apartment</td>\n",
       "      <td>Buenos Aires Costa Atlántica Mar del Plata</td>\n",
       "      <td>|Argentina|Buenos Aires Costa Atlántica|Mar de...</td>\n",
       "      <td>Buenos Aires Costa Atlántica</td>\n",
       "      <td>64000.0</td>\n",
       "      <td>USD</td>\n",
       "      <td>1129248.00</td>\n",
       "      <td>64000.0</td>\n",
       "      <td>35.0</td>\n",
       "      <td>35.0</td>\n",
       "      <td>1828.571429</td>\n",
       "      <td>1828.571429</td>\n",
       "      <td>Centro</td>\n",
       "    </tr>\n",
       "    <tr>\n",
       "      <th>...</th>\n",
       "      <td>...</td>\n",
       "      <td>...</td>\n",
       "      <td>...</td>\n",
       "      <td>...</td>\n",
       "      <td>...</td>\n",
       "      <td>...</td>\n",
       "      <td>...</td>\n",
       "      <td>...</td>\n",
       "      <td>...</td>\n",
       "      <td>...</td>\n",
       "      <td>...</td>\n",
       "      <td>...</td>\n",
       "      <td>...</td>\n",
       "      <td>...</td>\n",
       "    </tr>\n",
       "    <tr>\n",
       "      <th>121215</th>\n",
       "      <td>sell</td>\n",
       "      <td>apartment</td>\n",
       "      <td>Capital Federal Belgrano</td>\n",
       "      <td>|Argentina|Capital Federal|Belgrano|</td>\n",
       "      <td>Capital Federal</td>\n",
       "      <td>870000.0</td>\n",
       "      <td>USD</td>\n",
       "      <td>15350715.00</td>\n",
       "      <td>870000.0</td>\n",
       "      <td>113.0</td>\n",
       "      <td>93.0</td>\n",
       "      <td>9354.838710</td>\n",
       "      <td>9354.838710</td>\n",
       "      <td></td>\n",
       "    </tr>\n",
       "    <tr>\n",
       "      <th>121216</th>\n",
       "      <td>sell</td>\n",
       "      <td>house</td>\n",
       "      <td>Bs.As. G.B.A. Zona Norte San Isidro</td>\n",
       "      <td>|Argentina|Bs.As. G.B.A. Zona Norte|San Isidro...</td>\n",
       "      <td>Bs.As. G.B.A. Zona Norte</td>\n",
       "      <td>498000.0</td>\n",
       "      <td>USD</td>\n",
       "      <td>8786961.00</td>\n",
       "      <td>498000.0</td>\n",
       "      <td>360.0</td>\n",
       "      <td>360.0</td>\n",
       "      <td>1383.333333</td>\n",
       "      <td>1383.333333</td>\n",
       "      <td>Beccar</td>\n",
       "    </tr>\n",
       "    <tr>\n",
       "      <th>121217</th>\n",
       "      <td>sell</td>\n",
       "      <td>apartment</td>\n",
       "      <td>Capital Federal Villa Urquiza</td>\n",
       "      <td>|Argentina|Capital Federal|Villa Urquiza|</td>\n",
       "      <td>Capital Federal</td>\n",
       "      <td>131500.0</td>\n",
       "      <td>USD</td>\n",
       "      <td>2320251.75</td>\n",
       "      <td>131500.0</td>\n",
       "      <td>46.0</td>\n",
       "      <td>39.0</td>\n",
       "      <td>3371.794872</td>\n",
       "      <td>3371.794872</td>\n",
       "      <td></td>\n",
       "    </tr>\n",
       "    <tr>\n",
       "      <th>121218</th>\n",
       "      <td>sell</td>\n",
       "      <td>apartment</td>\n",
       "      <td>Buenos Aires Costa Atlántica Mar del Plata</td>\n",
       "      <td>|Argentina|Buenos Aires Costa Atlántica|Mar de...</td>\n",
       "      <td>Buenos Aires Costa Atlántica</td>\n",
       "      <td>95900.0</td>\n",
       "      <td>USD</td>\n",
       "      <td>1692107.55</td>\n",
       "      <td>95900.0</td>\n",
       "      <td>48.0</td>\n",
       "      <td>48.0</td>\n",
       "      <td>1997.916667</td>\n",
       "      <td>1997.916667</td>\n",
       "      <td>Plaza Colón</td>\n",
       "    </tr>\n",
       "    <tr>\n",
       "      <th>121219</th>\n",
       "      <td>sell</td>\n",
       "      <td>apartment</td>\n",
       "      <td>Capital Federal</td>\n",
       "      <td>|Argentina|Capital Federal|</td>\n",
       "      <td>Capital Federal</td>\n",
       "      <td>129000.0</td>\n",
       "      <td>USD</td>\n",
       "      <td>2276140.50</td>\n",
       "      <td>129000.0</td>\n",
       "      <td>77.0</td>\n",
       "      <td>77.0</td>\n",
       "      <td>1675.324675</td>\n",
       "      <td>1675.324675</td>\n",
       "      <td>Capital Federal</td>\n",
       "    </tr>\n",
       "  </tbody>\n",
       "</table>\n",
       "<p>120803 rows × 14 columns</p>\n",
       "</div>"
      ],
      "text/plain": [
       "       Tipo_de_operacion tipo_de_propiedad  \\\n",
       "0                   sell                PH   \n",
       "1                   sell         apartment   \n",
       "2                   sell         apartment   \n",
       "3                   sell                PH   \n",
       "4                   sell         apartment   \n",
       "...                  ...               ...   \n",
       "121215              sell         apartment   \n",
       "121216              sell             house   \n",
       "121217              sell         apartment   \n",
       "121218              sell         apartment   \n",
       "121219              sell         apartment   \n",
       "\n",
       "                                            ciudad  \\\n",
       "0                        Capital Federal Mataderos   \n",
       "1                  Bs.As. G.B.A. Zona Sur La Plata   \n",
       "2                        Capital Federal Mataderos   \n",
       "3                          Capital Federal Liniers   \n",
       "4       Buenos Aires Costa Atlántica Mar del Plata   \n",
       "...                                            ...   \n",
       "121215                    Capital Federal Belgrano   \n",
       "121216         Bs.As. G.B.A. Zona Norte San Isidro   \n",
       "121217               Capital Federal Villa Urquiza   \n",
       "121218  Buenos Aires Costa Atlántica Mar del Plata   \n",
       "121219                             Capital Federal   \n",
       "\n",
       "                                                ubicacion  \\\n",
       "0                   |Argentina|Capital Federal|Mataderos|   \n",
       "1             |Argentina|Bs.As. G.B.A. Zona Sur|La Plata|   \n",
       "2                   |Argentina|Capital Federal|Mataderos|   \n",
       "3                     |Argentina|Capital Federal|Liniers|   \n",
       "4       |Argentina|Buenos Aires Costa Atlántica|Mar de...   \n",
       "...                                                   ...   \n",
       "121215               |Argentina|Capital Federal|Belgrano|   \n",
       "121216  |Argentina|Bs.As. G.B.A. Zona Norte|San Isidro...   \n",
       "121217          |Argentina|Capital Federal|Villa Urquiza|   \n",
       "121218  |Argentina|Buenos Aires Costa Atlántica|Mar de...   \n",
       "121219                        |Argentina|Capital Federal|   \n",
       "\n",
       "                           provincia    precio currency  \\\n",
       "0                    Capital Federal   62000.0      USD   \n",
       "1             Bs.As. G.B.A. Zona Sur  150000.0      USD   \n",
       "2                    Capital Federal   72000.0      USD   \n",
       "3                    Capital Federal   95000.0      USD   \n",
       "4       Buenos Aires Costa Atlántica   64000.0      USD   \n",
       "...                              ...       ...      ...   \n",
       "121215               Capital Federal  870000.0      USD   \n",
       "121216      Bs.As. G.B.A. Zona Norte  498000.0      USD   \n",
       "121217               Capital Federal  131500.0      USD   \n",
       "121218  Buenos Aires Costa Atlántica   95900.0      USD   \n",
       "121219               Capital Federal  129000.0      USD   \n",
       "\n",
       "        Precio_aproximado_en_pesos  precio_aproximado_en_USD  \\\n",
       "0                       1093959.00                   62000.0   \n",
       "1                       2646675.00                  150000.0   \n",
       "2                       1270404.00                   72000.0   \n",
       "3                       1676227.50                   95000.0   \n",
       "4                       1129248.00                   64000.0   \n",
       "...                            ...                       ...   \n",
       "121215                 15350715.00                  870000.0   \n",
       "121216                  8786961.00                  498000.0   \n",
       "121217                  2320251.75                  131500.0   \n",
       "121218                  1692107.55                   95900.0   \n",
       "121219                  2276140.50                  129000.0   \n",
       "\n",
       "        superficie_total_en_M2  superficie_cubierta_en_M2  \\\n",
       "0                         55.0                       40.0   \n",
       "1                          NaN                        NaN   \n",
       "2                         55.0                       55.0   \n",
       "3                          NaN                        NaN   \n",
       "4                         35.0                       35.0   \n",
       "...                        ...                        ...   \n",
       "121215                   113.0                       93.0   \n",
       "121216                   360.0                      360.0   \n",
       "121217                    46.0                       39.0   \n",
       "121218                    48.0                       48.0   \n",
       "121219                    77.0                       77.0   \n",
       "\n",
       "        Precio_en_Dolares_por_M2  precio_por_M2     place_name_2  \n",
       "0                    1550.000000    1550.000000                   \n",
       "1                    1690.289964            NaN                   \n",
       "2                    1309.090909    1309.090909                   \n",
       "3                    2119.561973            NaN                   \n",
       "4                    1828.571429    1828.571429           Centro  \n",
       "...                          ...            ...              ...  \n",
       "121215               9354.838710    9354.838710                   \n",
       "121216               1383.333333    1383.333333           Beccar  \n",
       "121217               3371.794872    3371.794872                   \n",
       "121218               1997.916667    1997.916667      Plaza Colón  \n",
       "121219               1675.324675    1675.324675  Capital Federal  \n",
       "\n",
       "[120803 rows x 14 columns]"
      ]
     },
     "execution_count": 34,
     "metadata": {},
     "output_type": "execute_result"
    }
   ],
   "source": [
    "tabla_final = data1.dropna(axis=0, subset=['Precio_en_Dolares_por_M2'])\n",
    "tabla_final"
   ]
  },
  {
   "cell_type": "code",
   "execution_count": 35,
   "metadata": {},
   "outputs": [
    {
     "data": {
      "text/plain": [
       "(120803, 14)"
      ]
     },
     "execution_count": 35,
     "metadata": {},
     "output_type": "execute_result"
    }
   ],
   "source": [
    "tabla_final.shape"
   ]
  },
  {
   "cell_type": "code",
   "execution_count": 36,
   "metadata": {},
   "outputs": [
    {
     "data": {
      "text/plain": [
       "Tipo_de_operacion                 0\n",
       "tipo_de_propiedad                 0\n",
       "ciudad                            0\n",
       "ubicacion                         0\n",
       "provincia                         0\n",
       "precio                        20074\n",
       "currency                      20075\n",
       "Precio_aproximado_en_pesos    20074\n",
       "precio_aproximado_en_USD      20074\n",
       "superficie_total_en_M2        39138\n",
       "superficie_cubierta_en_M2     19644\n",
       "Precio_en_Dolares_por_M2          0\n",
       "precio_por_M2                 33145\n",
       "place_name_2                      0\n",
       "dtype: int64"
      ]
     },
     "execution_count": 36,
     "metadata": {},
     "output_type": "execute_result"
    }
   ],
   "source": [
    "tabla_final.isnull().sum()"
   ]
  },
  {
   "cell_type": "code",
   "execution_count": 37,
   "metadata": {},
   "outputs": [
    {
     "data": {
      "text/html": [
       "<div>\n",
       "<style scoped>\n",
       "    .dataframe tbody tr th:only-of-type {\n",
       "        vertical-align: middle;\n",
       "    }\n",
       "\n",
       "    .dataframe tbody tr th {\n",
       "        vertical-align: top;\n",
       "    }\n",
       "\n",
       "    .dataframe thead th {\n",
       "        text-align: right;\n",
       "    }\n",
       "</style>\n",
       "<table border=\"1\" class=\"dataframe\">\n",
       "  <thead>\n",
       "    <tr style=\"text-align: right;\">\n",
       "      <th></th>\n",
       "      <th>Tipo_de_operacion</th>\n",
       "      <th>tipo_de_propiedad</th>\n",
       "      <th>ciudad</th>\n",
       "      <th>ubicacion</th>\n",
       "      <th>provincia</th>\n",
       "      <th>precio</th>\n",
       "      <th>currency</th>\n",
       "      <th>Precio_aproximado_en_pesos</th>\n",
       "      <th>precio_aproximado_en_USD</th>\n",
       "      <th>superficie_total_en_M2</th>\n",
       "      <th>superficie_cubierta_en_M2</th>\n",
       "      <th>Precio_en_Dolares_por_M2</th>\n",
       "      <th>precio_por_M2</th>\n",
       "      <th>place_name_2</th>\n",
       "    </tr>\n",
       "  </thead>\n",
       "  <tbody>\n",
       "    <tr>\n",
       "      <th>0</th>\n",
       "      <td>sell</td>\n",
       "      <td>PH</td>\n",
       "      <td>Capital Federal Mataderos</td>\n",
       "      <td>|Argentina|Capital Federal|Mataderos|</td>\n",
       "      <td>Capital Federal</td>\n",
       "      <td>62000.0</td>\n",
       "      <td>USD</td>\n",
       "      <td>1093959.0</td>\n",
       "      <td>62000.0</td>\n",
       "      <td>55.0</td>\n",
       "      <td>40.0</td>\n",
       "      <td>1550.000000</td>\n",
       "      <td>1550.000000</td>\n",
       "      <td></td>\n",
       "    </tr>\n",
       "    <tr>\n",
       "      <th>1</th>\n",
       "      <td>sell</td>\n",
       "      <td>apartment</td>\n",
       "      <td>Bs.As. G.B.A. Zona Sur La Plata</td>\n",
       "      <td>|Argentina|Bs.As. G.B.A. Zona Sur|La Plata|</td>\n",
       "      <td>Bs.As. G.B.A. Zona Sur</td>\n",
       "      <td>150000.0</td>\n",
       "      <td>USD</td>\n",
       "      <td>2646675.0</td>\n",
       "      <td>150000.0</td>\n",
       "      <td>NaN</td>\n",
       "      <td>NaN</td>\n",
       "      <td>1690.289964</td>\n",
       "      <td>NaN</td>\n",
       "      <td></td>\n",
       "    </tr>\n",
       "    <tr>\n",
       "      <th>2</th>\n",
       "      <td>sell</td>\n",
       "      <td>apartment</td>\n",
       "      <td>Capital Federal Mataderos</td>\n",
       "      <td>|Argentina|Capital Federal|Mataderos|</td>\n",
       "      <td>Capital Federal</td>\n",
       "      <td>72000.0</td>\n",
       "      <td>USD</td>\n",
       "      <td>1270404.0</td>\n",
       "      <td>72000.0</td>\n",
       "      <td>55.0</td>\n",
       "      <td>55.0</td>\n",
       "      <td>1309.090909</td>\n",
       "      <td>1309.090909</td>\n",
       "      <td></td>\n",
       "    </tr>\n",
       "    <tr>\n",
       "      <th>3</th>\n",
       "      <td>sell</td>\n",
       "      <td>PH</td>\n",
       "      <td>Capital Federal Liniers</td>\n",
       "      <td>|Argentina|Capital Federal|Liniers|</td>\n",
       "      <td>Capital Federal</td>\n",
       "      <td>95000.0</td>\n",
       "      <td>USD</td>\n",
       "      <td>1676227.5</td>\n",
       "      <td>95000.0</td>\n",
       "      <td>NaN</td>\n",
       "      <td>NaN</td>\n",
       "      <td>2119.561973</td>\n",
       "      <td>NaN</td>\n",
       "      <td></td>\n",
       "    </tr>\n",
       "    <tr>\n",
       "      <th>4</th>\n",
       "      <td>sell</td>\n",
       "      <td>apartment</td>\n",
       "      <td>Buenos Aires Costa Atlántica Mar del Plata</td>\n",
       "      <td>|Argentina|Buenos Aires Costa Atlántica|Mar de...</td>\n",
       "      <td>Buenos Aires Costa Atlántica</td>\n",
       "      <td>64000.0</td>\n",
       "      <td>USD</td>\n",
       "      <td>1129248.0</td>\n",
       "      <td>64000.0</td>\n",
       "      <td>35.0</td>\n",
       "      <td>35.0</td>\n",
       "      <td>1828.571429</td>\n",
       "      <td>1828.571429</td>\n",
       "      <td>Centro</td>\n",
       "    </tr>\n",
       "  </tbody>\n",
       "</table>\n",
       "</div>"
      ],
      "text/plain": [
       "  Tipo_de_operacion tipo_de_propiedad  \\\n",
       "0              sell                PH   \n",
       "1              sell         apartment   \n",
       "2              sell         apartment   \n",
       "3              sell                PH   \n",
       "4              sell         apartment   \n",
       "\n",
       "                                       ciudad  \\\n",
       "0                   Capital Federal Mataderos   \n",
       "1             Bs.As. G.B.A. Zona Sur La Plata   \n",
       "2                   Capital Federal Mataderos   \n",
       "3                     Capital Federal Liniers   \n",
       "4  Buenos Aires Costa Atlántica Mar del Plata   \n",
       "\n",
       "                                           ubicacion  \\\n",
       "0              |Argentina|Capital Federal|Mataderos|   \n",
       "1        |Argentina|Bs.As. G.B.A. Zona Sur|La Plata|   \n",
       "2              |Argentina|Capital Federal|Mataderos|   \n",
       "3                |Argentina|Capital Federal|Liniers|   \n",
       "4  |Argentina|Buenos Aires Costa Atlántica|Mar de...   \n",
       "\n",
       "                      provincia    precio currency  \\\n",
       "0               Capital Federal   62000.0      USD   \n",
       "1        Bs.As. G.B.A. Zona Sur  150000.0      USD   \n",
       "2               Capital Federal   72000.0      USD   \n",
       "3               Capital Federal   95000.0      USD   \n",
       "4  Buenos Aires Costa Atlántica   64000.0      USD   \n",
       "\n",
       "   Precio_aproximado_en_pesos  precio_aproximado_en_USD  \\\n",
       "0                   1093959.0                   62000.0   \n",
       "1                   2646675.0                  150000.0   \n",
       "2                   1270404.0                   72000.0   \n",
       "3                   1676227.5                   95000.0   \n",
       "4                   1129248.0                   64000.0   \n",
       "\n",
       "   superficie_total_en_M2  superficie_cubierta_en_M2  \\\n",
       "0                    55.0                       40.0   \n",
       "1                     NaN                        NaN   \n",
       "2                    55.0                       55.0   \n",
       "3                     NaN                        NaN   \n",
       "4                    35.0                       35.0   \n",
       "\n",
       "   Precio_en_Dolares_por_M2  precio_por_M2 place_name_2  \n",
       "0               1550.000000    1550.000000               \n",
       "1               1690.289964            NaN               \n",
       "2               1309.090909    1309.090909               \n",
       "3               2119.561973            NaN               \n",
       "4               1828.571429    1828.571429       Centro  "
      ]
     },
     "execution_count": 37,
     "metadata": {},
     "output_type": "execute_result"
    }
   ],
   "source": [
    "tabla_final.head(5)"
   ]
  },
  {
   "cell_type": "markdown",
   "metadata": {},
   "source": [
    "Visualizaciones utilizadas para realizar la presentación."
   ]
  },
  {
   "cell_type": "code",
   "execution_count": 48,
   "metadata": {},
   "outputs": [
    {
     "data": {
      "application/vnd.plotly.v1+json": {
       "config": {
        "plotlyServerURL": "https://plotly.com"
       },
       "data": [
        {
         "name": "Nulos",
         "type": "bar",
         "x": [
          "Unnamed: 0",
          "operation",
          "property_type",
          "place_name",
          "place_with_parent_names",
          "country_name",
          "state_name",
          "geonames_id",
          "lat-lon",
          "lat",
          "lon",
          "price",
          "currency",
          "price_aprox_local_currency",
          "price_aprox_usd",
          "surface_total_in_m2",
          "surface_covered_in_m2",
          "price_usd_per_m2",
          "price_per_m2",
          "floor",
          "rooms",
          "expenses",
          "properati_url",
          "description",
          "title",
          "image_thumbnail"
         ],
         "y": [
          0,
          0,
          0,
          0,
          0,
          16.837155584886982,
          16.83798053126547,
          16.837155584886982,
          16.837155584886982,
          32.44349117307375,
          16.422207556508827,
          0.34400263982841117,
          27.686850354726943,
          0
         ]
        },
        {
         "name": "No Nulos",
         "type": "bar",
         "x": [
          "Unnamed: 0",
          "operation",
          "property_type",
          "place_name",
          "place_with_parent_names",
          "country_name",
          "state_name",
          "geonames_id",
          "lat-lon",
          "lat",
          "lon",
          "price",
          "currency",
          "price_aprox_local_currency",
          "price_aprox_usd",
          "surface_total_in_m2",
          "surface_covered_in_m2",
          "price_usd_per_m2",
          "price_per_m2",
          "floor",
          "rooms",
          "expenses",
          "properati_url",
          "description",
          "title",
          "image_thumbnail"
         ],
         "y": [
          100,
          100,
          100,
          100,
          100,
          83.16284441511301,
          83.16201946873453,
          83.16284441511301,
          83.16284441511301,
          67.55650882692625,
          83.57779244349118,
          99.65599736017158,
          72.31314964527306,
          100
         ]
        }
       ],
       "layout": {
        "autosize": true,
        "barmode": "stack",
        "template": {
         "data": {
          "bar": [
           {
            "error_x": {
             "color": "#2a3f5f"
            },
            "error_y": {
             "color": "#2a3f5f"
            },
            "marker": {
             "line": {
              "color": "#E5ECF6",
              "width": 0.5
             }
            },
            "type": "bar"
           }
          ],
          "barpolar": [
           {
            "marker": {
             "line": {
              "color": "#E5ECF6",
              "width": 0.5
             }
            },
            "type": "barpolar"
           }
          ],
          "carpet": [
           {
            "aaxis": {
             "endlinecolor": "#2a3f5f",
             "gridcolor": "white",
             "linecolor": "white",
             "minorgridcolor": "white",
             "startlinecolor": "#2a3f5f"
            },
            "baxis": {
             "endlinecolor": "#2a3f5f",
             "gridcolor": "white",
             "linecolor": "white",
             "minorgridcolor": "white",
             "startlinecolor": "#2a3f5f"
            },
            "type": "carpet"
           }
          ],
          "choropleth": [
           {
            "colorbar": {
             "outlinewidth": 0,
             "ticks": ""
            },
            "type": "choropleth"
           }
          ],
          "contour": [
           {
            "colorbar": {
             "outlinewidth": 0,
             "ticks": ""
            },
            "colorscale": [
             [
              0,
              "#0d0887"
             ],
             [
              0.1111111111111111,
              "#46039f"
             ],
             [
              0.2222222222222222,
              "#7201a8"
             ],
             [
              0.3333333333333333,
              "#9c179e"
             ],
             [
              0.4444444444444444,
              "#bd3786"
             ],
             [
              0.5555555555555556,
              "#d8576b"
             ],
             [
              0.6666666666666666,
              "#ed7953"
             ],
             [
              0.7777777777777778,
              "#fb9f3a"
             ],
             [
              0.8888888888888888,
              "#fdca26"
             ],
             [
              1,
              "#f0f921"
             ]
            ],
            "type": "contour"
           }
          ],
          "contourcarpet": [
           {
            "colorbar": {
             "outlinewidth": 0,
             "ticks": ""
            },
            "type": "contourcarpet"
           }
          ],
          "heatmap": [
           {
            "colorbar": {
             "outlinewidth": 0,
             "ticks": ""
            },
            "colorscale": [
             [
              0,
              "#0d0887"
             ],
             [
              0.1111111111111111,
              "#46039f"
             ],
             [
              0.2222222222222222,
              "#7201a8"
             ],
             [
              0.3333333333333333,
              "#9c179e"
             ],
             [
              0.4444444444444444,
              "#bd3786"
             ],
             [
              0.5555555555555556,
              "#d8576b"
             ],
             [
              0.6666666666666666,
              "#ed7953"
             ],
             [
              0.7777777777777778,
              "#fb9f3a"
             ],
             [
              0.8888888888888888,
              "#fdca26"
             ],
             [
              1,
              "#f0f921"
             ]
            ],
            "type": "heatmap"
           }
          ],
          "heatmapgl": [
           {
            "colorbar": {
             "outlinewidth": 0,
             "ticks": ""
            },
            "colorscale": [
             [
              0,
              "#0d0887"
             ],
             [
              0.1111111111111111,
              "#46039f"
             ],
             [
              0.2222222222222222,
              "#7201a8"
             ],
             [
              0.3333333333333333,
              "#9c179e"
             ],
             [
              0.4444444444444444,
              "#bd3786"
             ],
             [
              0.5555555555555556,
              "#d8576b"
             ],
             [
              0.6666666666666666,
              "#ed7953"
             ],
             [
              0.7777777777777778,
              "#fb9f3a"
             ],
             [
              0.8888888888888888,
              "#fdca26"
             ],
             [
              1,
              "#f0f921"
             ]
            ],
            "type": "heatmapgl"
           }
          ],
          "histogram": [
           {
            "marker": {
             "colorbar": {
              "outlinewidth": 0,
              "ticks": ""
             }
            },
            "type": "histogram"
           }
          ],
          "histogram2d": [
           {
            "colorbar": {
             "outlinewidth": 0,
             "ticks": ""
            },
            "colorscale": [
             [
              0,
              "#0d0887"
             ],
             [
              0.1111111111111111,
              "#46039f"
             ],
             [
              0.2222222222222222,
              "#7201a8"
             ],
             [
              0.3333333333333333,
              "#9c179e"
             ],
             [
              0.4444444444444444,
              "#bd3786"
             ],
             [
              0.5555555555555556,
              "#d8576b"
             ],
             [
              0.6666666666666666,
              "#ed7953"
             ],
             [
              0.7777777777777778,
              "#fb9f3a"
             ],
             [
              0.8888888888888888,
              "#fdca26"
             ],
             [
              1,
              "#f0f921"
             ]
            ],
            "type": "histogram2d"
           }
          ],
          "histogram2dcontour": [
           {
            "colorbar": {
             "outlinewidth": 0,
             "ticks": ""
            },
            "colorscale": [
             [
              0,
              "#0d0887"
             ],
             [
              0.1111111111111111,
              "#46039f"
             ],
             [
              0.2222222222222222,
              "#7201a8"
             ],
             [
              0.3333333333333333,
              "#9c179e"
             ],
             [
              0.4444444444444444,
              "#bd3786"
             ],
             [
              0.5555555555555556,
              "#d8576b"
             ],
             [
              0.6666666666666666,
              "#ed7953"
             ],
             [
              0.7777777777777778,
              "#fb9f3a"
             ],
             [
              0.8888888888888888,
              "#fdca26"
             ],
             [
              1,
              "#f0f921"
             ]
            ],
            "type": "histogram2dcontour"
           }
          ],
          "mesh3d": [
           {
            "colorbar": {
             "outlinewidth": 0,
             "ticks": ""
            },
            "type": "mesh3d"
           }
          ],
          "parcoords": [
           {
            "line": {
             "colorbar": {
              "outlinewidth": 0,
              "ticks": ""
             }
            },
            "type": "parcoords"
           }
          ],
          "pie": [
           {
            "automargin": true,
            "type": "pie"
           }
          ],
          "scatter": [
           {
            "marker": {
             "colorbar": {
              "outlinewidth": 0,
              "ticks": ""
             }
            },
            "type": "scatter"
           }
          ],
          "scatter3d": [
           {
            "line": {
             "colorbar": {
              "outlinewidth": 0,
              "ticks": ""
             }
            },
            "marker": {
             "colorbar": {
              "outlinewidth": 0,
              "ticks": ""
             }
            },
            "type": "scatter3d"
           }
          ],
          "scattercarpet": [
           {
            "marker": {
             "colorbar": {
              "outlinewidth": 0,
              "ticks": ""
             }
            },
            "type": "scattercarpet"
           }
          ],
          "scattergeo": [
           {
            "marker": {
             "colorbar": {
              "outlinewidth": 0,
              "ticks": ""
             }
            },
            "type": "scattergeo"
           }
          ],
          "scattergl": [
           {
            "marker": {
             "colorbar": {
              "outlinewidth": 0,
              "ticks": ""
             }
            },
            "type": "scattergl"
           }
          ],
          "scattermapbox": [
           {
            "marker": {
             "colorbar": {
              "outlinewidth": 0,
              "ticks": ""
             }
            },
            "type": "scattermapbox"
           }
          ],
          "scatterpolar": [
           {
            "marker": {
             "colorbar": {
              "outlinewidth": 0,
              "ticks": ""
             }
            },
            "type": "scatterpolar"
           }
          ],
          "scatterpolargl": [
           {
            "marker": {
             "colorbar": {
              "outlinewidth": 0,
              "ticks": ""
             }
            },
            "type": "scatterpolargl"
           }
          ],
          "scatterternary": [
           {
            "marker": {
             "colorbar": {
              "outlinewidth": 0,
              "ticks": ""
             }
            },
            "type": "scatterternary"
           }
          ],
          "surface": [
           {
            "colorbar": {
             "outlinewidth": 0,
             "ticks": ""
            },
            "colorscale": [
             [
              0,
              "#0d0887"
             ],
             [
              0.1111111111111111,
              "#46039f"
             ],
             [
              0.2222222222222222,
              "#7201a8"
             ],
             [
              0.3333333333333333,
              "#9c179e"
             ],
             [
              0.4444444444444444,
              "#bd3786"
             ],
             [
              0.5555555555555556,
              "#d8576b"
             ],
             [
              0.6666666666666666,
              "#ed7953"
             ],
             [
              0.7777777777777778,
              "#fb9f3a"
             ],
             [
              0.8888888888888888,
              "#fdca26"
             ],
             [
              1,
              "#f0f921"
             ]
            ],
            "type": "surface"
           }
          ],
          "table": [
           {
            "cells": {
             "fill": {
              "color": "#EBF0F8"
             },
             "line": {
              "color": "white"
             }
            },
            "header": {
             "fill": {
              "color": "#C8D4E3"
             },
             "line": {
              "color": "white"
             }
            },
            "type": "table"
           }
          ]
         },
         "layout": {
          "annotationdefaults": {
           "arrowcolor": "#2a3f5f",
           "arrowhead": 0,
           "arrowwidth": 1
          },
          "coloraxis": {
           "colorbar": {
            "outlinewidth": 0,
            "ticks": ""
           }
          },
          "colorscale": {
           "diverging": [
            [
             0,
             "#8e0152"
            ],
            [
             0.1,
             "#c51b7d"
            ],
            [
             0.2,
             "#de77ae"
            ],
            [
             0.3,
             "#f1b6da"
            ],
            [
             0.4,
             "#fde0ef"
            ],
            [
             0.5,
             "#f7f7f7"
            ],
            [
             0.6,
             "#e6f5d0"
            ],
            [
             0.7,
             "#b8e186"
            ],
            [
             0.8,
             "#7fbc41"
            ],
            [
             0.9,
             "#4d9221"
            ],
            [
             1,
             "#276419"
            ]
           ],
           "sequential": [
            [
             0,
             "#0d0887"
            ],
            [
             0.1111111111111111,
             "#46039f"
            ],
            [
             0.2222222222222222,
             "#7201a8"
            ],
            [
             0.3333333333333333,
             "#9c179e"
            ],
            [
             0.4444444444444444,
             "#bd3786"
            ],
            [
             0.5555555555555556,
             "#d8576b"
            ],
            [
             0.6666666666666666,
             "#ed7953"
            ],
            [
             0.7777777777777778,
             "#fb9f3a"
            ],
            [
             0.8888888888888888,
             "#fdca26"
            ],
            [
             1,
             "#f0f921"
            ]
           ],
           "sequentialminus": [
            [
             0,
             "#0d0887"
            ],
            [
             0.1111111111111111,
             "#46039f"
            ],
            [
             0.2222222222222222,
             "#7201a8"
            ],
            [
             0.3333333333333333,
             "#9c179e"
            ],
            [
             0.4444444444444444,
             "#bd3786"
            ],
            [
             0.5555555555555556,
             "#d8576b"
            ],
            [
             0.6666666666666666,
             "#ed7953"
            ],
            [
             0.7777777777777778,
             "#fb9f3a"
            ],
            [
             0.8888888888888888,
             "#fdca26"
            ],
            [
             1,
             "#f0f921"
            ]
           ]
          },
          "colorway": [
           "#636efa",
           "#EF553B",
           "#00cc96",
           "#ab63fa",
           "#FFA15A",
           "#19d3f3",
           "#FF6692",
           "#B6E880",
           "#FF97FF",
           "#FECB52"
          ],
          "font": {
           "color": "#2a3f5f"
          },
          "geo": {
           "bgcolor": "white",
           "lakecolor": "white",
           "landcolor": "#E5ECF6",
           "showlakes": true,
           "showland": true,
           "subunitcolor": "white"
          },
          "hoverlabel": {
           "align": "left"
          },
          "hovermode": "closest",
          "mapbox": {
           "style": "light"
          },
          "paper_bgcolor": "white",
          "plot_bgcolor": "#E5ECF6",
          "polar": {
           "angularaxis": {
            "gridcolor": "white",
            "linecolor": "white",
            "ticks": ""
           },
           "bgcolor": "#E5ECF6",
           "radialaxis": {
            "gridcolor": "white",
            "linecolor": "white",
            "ticks": ""
           }
          },
          "scene": {
           "xaxis": {
            "backgroundcolor": "#E5ECF6",
            "gridcolor": "white",
            "gridwidth": 2,
            "linecolor": "white",
            "showbackground": true,
            "ticks": "",
            "zerolinecolor": "white"
           },
           "yaxis": {
            "backgroundcolor": "#E5ECF6",
            "gridcolor": "white",
            "gridwidth": 2,
            "linecolor": "white",
            "showbackground": true,
            "ticks": "",
            "zerolinecolor": "white"
           },
           "zaxis": {
            "backgroundcolor": "#E5ECF6",
            "gridcolor": "white",
            "gridwidth": 2,
            "linecolor": "white",
            "showbackground": true,
            "ticks": "",
            "zerolinecolor": "white"
           }
          },
          "shapedefaults": {
           "line": {
            "color": "#2a3f5f"
           }
          },
          "ternary": {
           "aaxis": {
            "gridcolor": "white",
            "linecolor": "white",
            "ticks": ""
           },
           "baxis": {
            "gridcolor": "white",
            "linecolor": "white",
            "ticks": ""
           },
           "bgcolor": "#E5ECF6",
           "caxis": {
            "gridcolor": "white",
            "linecolor": "white",
            "ticks": ""
           }
          },
          "title": {
           "x": 0.05
          },
          "xaxis": {
           "automargin": true,
           "gridcolor": "white",
           "linecolor": "white",
           "ticks": "",
           "title": {
            "standoff": 15
           },
           "zerolinecolor": "white",
           "zerolinewidth": 2
          },
          "yaxis": {
           "automargin": true,
           "gridcolor": "white",
           "linecolor": "white",
           "ticks": "",
           "title": {
            "standoff": 15
           },
           "zerolinecolor": "white",
           "zerolinewidth": 2
          }
         }
        },
        "xaxis": {
         "autorange": true,
         "range": [
          -0.5,
          13.5
         ],
         "type": "category"
        },
        "yaxis": {
         "autorange": true,
         "range": [
          0,
          105.26315789473684
         ],
         "type": "linear"
        }
       }
      },
      "image/png": "[encoded data removed]",
      "text/html": [
       "<div>\n",
       "        \n",
       "        \n",
       "            <div id=\"d44bd07b-95eb-4932-a92a-2942a8eb5e09\" class=\"plotly-graph-div\" style=\"height:525px; width:100%;\"></div>\n",
       "            <script type=\"text/javascript\">\n",
       "                require([\"plotly\"], function(Plotly) {\n",
       "                    window.PLOTLYENV=window.PLOTLYENV || {};\n",
       "                    \n",
       "                if (document.getElementById(\"d44bd07b-95eb-4932-a92a-2942a8eb5e09\")) {\n",
       "                    Plotly.newPlot(\n",
       "                        'd44bd07b-95eb-4932-a92a-2942a8eb5e09',\n",
       "                        [{\"name\": \"Nulos\", \"type\": \"bar\", \"x\": [\"Unnamed: 0\", \"operation\", \"property_type\", \"place_name\", \"place_with_parent_names\", \"country_name\", \"state_name\", \"geonames_id\", \"lat-lon\", \"lat\", \"lon\", \"price\", \"currency\", \"price_aprox_local_currency\", \"price_aprox_usd\", \"surface_total_in_m2\", \"surface_covered_in_m2\", \"price_usd_per_m2\", \"price_per_m2\", \"floor\", \"rooms\", \"expenses\", \"properati_url\", \"description\", \"title\", \"image_thumbnail\"], \"y\": [0.0, 0.0, 0.0, 0.0, 0.0, 16.837155584886982, 16.83798053126547, 16.837155584886982, 16.837155584886982, 32.44349117307375, 16.422207556508827, 0.34400263982841117, 27.686850354726943, 0.0]}, {\"name\": \"No Nulos\", \"type\": \"bar\", \"x\": [\"Unnamed: 0\", \"operation\", \"property_type\", \"place_name\", \"place_with_parent_names\", \"country_name\", \"state_name\", \"geonames_id\", \"lat-lon\", \"lat\", \"lon\", \"price\", \"currency\", \"price_aprox_local_currency\", \"price_aprox_usd\", \"surface_total_in_m2\", \"surface_covered_in_m2\", \"price_usd_per_m2\", \"price_per_m2\", \"floor\", \"rooms\", \"expenses\", \"properati_url\", \"description\", \"title\", \"image_thumbnail\"], \"y\": [100.0, 100.0, 100.0, 100.0, 100.0, 83.16284441511301, 83.16201946873453, 83.16284441511301, 83.16284441511301, 67.55650882692625, 83.57779244349118, 99.65599736017158, 72.31314964527306, 100.0]}],\n",
       "                        {\"barmode\": \"stack\", \"template\": {\"data\": {\"bar\": [{\"error_x\": {\"color\": \"#2a3f5f\"}, \"error_y\": {\"color\": \"#2a3f5f\"}, \"marker\": {\"line\": {\"color\": \"#E5ECF6\", \"width\": 0.5}}, \"type\": \"bar\"}], \"barpolar\": [{\"marker\": {\"line\": {\"color\": \"#E5ECF6\", \"width\": 0.5}}, \"type\": \"barpolar\"}], \"carpet\": [{\"aaxis\": {\"endlinecolor\": \"#2a3f5f\", \"gridcolor\": \"white\", \"linecolor\": \"white\", \"minorgridcolor\": \"white\", \"startlinecolor\": \"#2a3f5f\"}, \"baxis\": {\"endlinecolor\": \"#2a3f5f\", \"gridcolor\": \"white\", \"linecolor\": \"white\", \"minorgridcolor\": \"white\", \"startlinecolor\": \"#2a3f5f\"}, \"type\": \"carpet\"}], \"choropleth\": [{\"colorbar\": {\"outlinewidth\": 0, \"ticks\": \"\"}, \"type\": \"choropleth\"}], \"contour\": [{\"colorbar\": {\"outlinewidth\": 0, \"ticks\": \"\"}, \"colorscale\": [[0.0, \"#0d0887\"], [0.1111111111111111, \"#46039f\"], [0.2222222222222222, \"#7201a8\"], [0.3333333333333333, \"#9c179e\"], [0.4444444444444444, \"#bd3786\"], [0.5555555555555556, \"#d8576b\"], [0.6666666666666666, \"#ed7953\"], [0.7777777777777778, \"#fb9f3a\"], [0.8888888888888888, \"#fdca26\"], [1.0, \"#f0f921\"]], \"type\": \"contour\"}], \"contourcarpet\": [{\"colorbar\": {\"outlinewidth\": 0, \"ticks\": \"\"}, \"type\": \"contourcarpet\"}], \"heatmap\": [{\"colorbar\": {\"outlinewidth\": 0, \"ticks\": \"\"}, \"colorscale\": [[0.0, \"#0d0887\"], [0.1111111111111111, \"#46039f\"], [0.2222222222222222, \"#7201a8\"], [0.3333333333333333, \"#9c179e\"], [0.4444444444444444, \"#bd3786\"], [0.5555555555555556, \"#d8576b\"], [0.6666666666666666, \"#ed7953\"], [0.7777777777777778, \"#fb9f3a\"], [0.8888888888888888, \"#fdca26\"], [1.0, \"#f0f921\"]], \"type\": \"heatmap\"}], \"heatmapgl\": [{\"colorbar\": {\"outlinewidth\": 0, \"ticks\": \"\"}, \"colorscale\": [[0.0, \"#0d0887\"], [0.1111111111111111, \"#46039f\"], [0.2222222222222222, \"#7201a8\"], [0.3333333333333333, \"#9c179e\"], [0.4444444444444444, \"#bd3786\"], [0.5555555555555556, \"#d8576b\"], [0.6666666666666666, \"#ed7953\"], [0.7777777777777778, \"#fb9f3a\"], [0.8888888888888888, \"#fdca26\"], [1.0, \"#f0f921\"]], \"type\": \"heatmapgl\"}], \"histogram\": [{\"marker\": {\"colorbar\": {\"outlinewidth\": 0, \"ticks\": \"\"}}, \"type\": \"histogram\"}], \"histogram2d\": [{\"colorbar\": {\"outlinewidth\": 0, \"ticks\": \"\"}, \"colorscale\": [[0.0, \"#0d0887\"], [0.1111111111111111, \"#46039f\"], [0.2222222222222222, \"#7201a8\"], [0.3333333333333333, \"#9c179e\"], [0.4444444444444444, \"#bd3786\"], [0.5555555555555556, \"#d8576b\"], [0.6666666666666666, \"#ed7953\"], [0.7777777777777778, \"#fb9f3a\"], [0.8888888888888888, \"#fdca26\"], [1.0, \"#f0f921\"]], \"type\": \"histogram2d\"}], \"histogram2dcontour\": [{\"colorbar\": {\"outlinewidth\": 0, \"ticks\": \"\"}, \"colorscale\": [[0.0, \"#0d0887\"], [0.1111111111111111, \"#46039f\"], [0.2222222222222222, \"#7201a8\"], [0.3333333333333333, \"#9c179e\"], [0.4444444444444444, \"#bd3786\"], [0.5555555555555556, \"#d8576b\"], [0.6666666666666666, \"#ed7953\"], [0.7777777777777778, \"#fb9f3a\"], [0.8888888888888888, \"#fdca26\"], [1.0, \"#f0f921\"]], \"type\": \"histogram2dcontour\"}], \"mesh3d\": [{\"colorbar\": {\"outlinewidth\": 0, \"ticks\": \"\"}, \"type\": \"mesh3d\"}], \"parcoords\": [{\"line\": {\"colorbar\": {\"outlinewidth\": 0, \"ticks\": \"\"}}, \"type\": \"parcoords\"}], \"pie\": [{\"automargin\": true, \"type\": \"pie\"}], \"scatter\": [{\"marker\": {\"colorbar\": {\"outlinewidth\": 0, \"ticks\": \"\"}}, \"type\": \"scatter\"}], \"scatter3d\": [{\"line\": {\"colorbar\": {\"outlinewidth\": 0, \"ticks\": \"\"}}, \"marker\": {\"colorbar\": {\"outlinewidth\": 0, \"ticks\": \"\"}}, \"type\": \"scatter3d\"}], \"scattercarpet\": [{\"marker\": {\"colorbar\": {\"outlinewidth\": 0, \"ticks\": \"\"}}, \"type\": \"scattercarpet\"}], \"scattergeo\": [{\"marker\": {\"colorbar\": {\"outlinewidth\": 0, \"ticks\": \"\"}}, \"type\": \"scattergeo\"}], \"scattergl\": [{\"marker\": {\"colorbar\": {\"outlinewidth\": 0, \"ticks\": \"\"}}, \"type\": \"scattergl\"}], \"scattermapbox\": [{\"marker\": {\"colorbar\": {\"outlinewidth\": 0, \"ticks\": \"\"}}, \"type\": \"scattermapbox\"}], \"scatterpolar\": [{\"marker\": {\"colorbar\": {\"outlinewidth\": 0, \"ticks\": \"\"}}, \"type\": \"scatterpolar\"}], \"scatterpolargl\": [{\"marker\": {\"colorbar\": {\"outlinewidth\": 0, \"ticks\": \"\"}}, \"type\": \"scatterpolargl\"}], \"scatterternary\": [{\"marker\": {\"colorbar\": {\"outlinewidth\": 0, \"ticks\": \"\"}}, \"type\": \"scatterternary\"}], \"surface\": [{\"colorbar\": {\"outlinewidth\": 0, \"ticks\": \"\"}, \"colorscale\": [[0.0, \"#0d0887\"], [0.1111111111111111, \"#46039f\"], [0.2222222222222222, \"#7201a8\"], [0.3333333333333333, \"#9c179e\"], [0.4444444444444444, \"#bd3786\"], [0.5555555555555556, \"#d8576b\"], [0.6666666666666666, \"#ed7953\"], [0.7777777777777778, \"#fb9f3a\"], [0.8888888888888888, \"#fdca26\"], [1.0, \"#f0f921\"]], \"type\": \"surface\"}], \"table\": [{\"cells\": {\"fill\": {\"color\": \"#EBF0F8\"}, \"line\": {\"color\": \"white\"}}, \"header\": {\"fill\": {\"color\": \"#C8D4E3\"}, \"line\": {\"color\": \"white\"}}, \"type\": \"table\"}]}, \"layout\": {\"annotationdefaults\": {\"arrowcolor\": \"#2a3f5f\", \"arrowhead\": 0, \"arrowwidth\": 1}, \"coloraxis\": {\"colorbar\": {\"outlinewidth\": 0, \"ticks\": \"\"}}, \"colorscale\": {\"diverging\": [[0, \"#8e0152\"], [0.1, \"#c51b7d\"], [0.2, \"#de77ae\"], [0.3, \"#f1b6da\"], [0.4, \"#fde0ef\"], [0.5, \"#f7f7f7\"], [0.6, \"#e6f5d0\"], [0.7, \"#b8e186\"], [0.8, \"#7fbc41\"], [0.9, \"#4d9221\"], [1, \"#276419\"]], \"sequential\": [[0.0, \"#0d0887\"], [0.1111111111111111, \"#46039f\"], [0.2222222222222222, \"#7201a8\"], [0.3333333333333333, \"#9c179e\"], [0.4444444444444444, \"#bd3786\"], [0.5555555555555556, \"#d8576b\"], [0.6666666666666666, \"#ed7953\"], [0.7777777777777778, \"#fb9f3a\"], [0.8888888888888888, \"#fdca26\"], [1.0, \"#f0f921\"]], \"sequentialminus\": [[0.0, \"#0d0887\"], [0.1111111111111111, \"#46039f\"], [0.2222222222222222, \"#7201a8\"], [0.3333333333333333, \"#9c179e\"], [0.4444444444444444, \"#bd3786\"], [0.5555555555555556, \"#d8576b\"], [0.6666666666666666, \"#ed7953\"], [0.7777777777777778, \"#fb9f3a\"], [0.8888888888888888, \"#fdca26\"], [1.0, \"#f0f921\"]]}, \"colorway\": [\"#636efa\", \"#EF553B\", \"#00cc96\", \"#ab63fa\", \"#FFA15A\", \"#19d3f3\", \"#FF6692\", \"#B6E880\", \"#FF97FF\", \"#FECB52\"], \"font\": {\"color\": \"#2a3f5f\"}, \"geo\": {\"bgcolor\": \"white\", \"lakecolor\": \"white\", \"landcolor\": \"#E5ECF6\", \"showlakes\": true, \"showland\": true, \"subunitcolor\": \"white\"}, \"hoverlabel\": {\"align\": \"left\"}, \"hovermode\": \"closest\", \"mapbox\": {\"style\": \"light\"}, \"paper_bgcolor\": \"white\", \"plot_bgcolor\": \"#E5ECF6\", \"polar\": {\"angularaxis\": {\"gridcolor\": \"white\", \"linecolor\": \"white\", \"ticks\": \"\"}, \"bgcolor\": \"#E5ECF6\", \"radialaxis\": {\"gridcolor\": \"white\", \"linecolor\": \"white\", \"ticks\": \"\"}}, \"scene\": {\"xaxis\": {\"backgroundcolor\": \"#E5ECF6\", \"gridcolor\": \"white\", \"gridwidth\": 2, \"linecolor\": \"white\", \"showbackground\": true, \"ticks\": \"\", \"zerolinecolor\": \"white\"}, \"yaxis\": {\"backgroundcolor\": \"#E5ECF6\", \"gridcolor\": \"white\", \"gridwidth\": 2, \"linecolor\": \"white\", \"showbackground\": true, \"ticks\": \"\", \"zerolinecolor\": \"white\"}, \"zaxis\": {\"backgroundcolor\": \"#E5ECF6\", \"gridcolor\": \"white\", \"gridwidth\": 2, \"linecolor\": \"white\", \"showbackground\": true, \"ticks\": \"\", \"zerolinecolor\": \"white\"}}, \"shapedefaults\": {\"line\": {\"color\": \"#2a3f5f\"}}, \"ternary\": {\"aaxis\": {\"gridcolor\": \"white\", \"linecolor\": \"white\", \"ticks\": \"\"}, \"baxis\": {\"gridcolor\": \"white\", \"linecolor\": \"white\", \"ticks\": \"\"}, \"bgcolor\": \"#E5ECF6\", \"caxis\": {\"gridcolor\": \"white\", \"linecolor\": \"white\", \"ticks\": \"\"}}, \"title\": {\"x\": 0.05}, \"xaxis\": {\"automargin\": true, \"gridcolor\": \"white\", \"linecolor\": \"white\", \"ticks\": \"\", \"title\": {\"standoff\": 15}, \"zerolinecolor\": \"white\", \"zerolinewidth\": 2}, \"yaxis\": {\"automargin\": true, \"gridcolor\": \"white\", \"linecolor\": \"white\", \"ticks\": \"\", \"title\": {\"standoff\": 15}, \"zerolinecolor\": \"white\", \"zerolinewidth\": 2}}}},\n",
       "                        {\"responsive\": true}\n",
       "                    ).then(function(){\n",
       "                            \n",
       "var gd = document.getElementById('d44bd07b-95eb-4932-a92a-2942a8eb5e09');\n",
       "var x = new MutationObserver(function (mutations, observer) {{\n",
       "        var display = window.getComputedStyle(gd).display;\n",
       "        if (!display || display === 'none') {{\n",
       "            console.log([gd, 'removed!']);\n",
       "            Plotly.purge(gd);\n",
       "            observer.disconnect();\n",
       "        }}\n",
       "}});\n",
       "\n",
       "// Listen for the removal of the full notebook cells\n",
       "var notebookContainer = gd.closest('#notebook-container');\n",
       "if (notebookContainer) {{\n",
       "    x.observe(notebookContainer, {childList: true});\n",
       "}}\n",
       "\n",
       "// Listen for the clearing of the current output cell\n",
       "var outputEl = gd.closest('.output');\n",
       "if (outputEl) {{\n",
       "    x.observe(outputEl, {childList: true});\n",
       "}}\n",
       "\n",
       "                        })\n",
       "                };\n",
       "                });\n",
       "            </script>\n",
       "        </div>"
      ]
     },
     "metadata": {},
     "output_type": "display_data"
    }
   ],
   "source": [
    "data_null = data1.isnull().sum()/data1.shape[0]*100\n",
    "data_null\n",
    "data_notnull = data1.notnull().sum()/data1.shape[0]*100\n",
    "data_notnull\n",
    "import plotly.express as px\n",
    "import chart_studio\n",
    "import chart_studio.plotly as py\n",
    "import plotly.graph_objects as go\n",
    "import matplotlib.pyplot as plt\n",
    "\n",
    "import plotly.graph_objects as go\n",
    "Columnas= data.columns\n",
    "\n",
    "fig = go.Figure(data=[\n",
    "    go.Bar(name='Nulos', x=Columnas, y=data_null),\n",
    "    go.Bar(name='No Nulos', x=Columnas, y=data_notnull)\n",
    "])\n",
    "# Change the bar mode\n",
    "fig.update_layout(barmode='stack')\n",
    "fig.show()"
   ]
  },
  {
   "cell_type": "code",
   "execution_count": 39,
   "metadata": {},
   "outputs": [
    {
     "data": {
      "text/plain": [
       "<AxesSubplot:xlabel='Precio_en_Dolares_por_M2', ylabel='provincia'>"
      ]
     },
     "execution_count": 39,
     "metadata": {},
     "output_type": "execute_result"
    },
    {
     "data": {
      "image/png": "[encoded data removed]",
      "text/plain": [
       "<Figure size 1080x576 with 1 Axes>"
      ]
     },
     "metadata": {
      "needs_background": "light"
     },
     "output_type": "display_data"
    }
   ],
   "source": [
    "import seaborn as sns\n",
    "import matplotlib.pyplot as plt\n",
    "fig_dims = (15, 8)\n",
    "fig, ax = plt.subplots(figsize=fig_dims)\n",
    "\n",
    "\n",
    "sns.barplot(x=tabla_final['Precio_en_Dolares_por_M2'], y=tabla_final['provincia'],ax=ax)\n"
   ]
  },
  {
   "cell_type": "code",
   "execution_count": null,
   "metadata": {},
   "outputs": [],
   "source": []
  }
 ],
 "metadata": {
  "kernelspec": {
   "display_name": "Python 3",
   "language": "python",
   "name": "python3"
  },
  "language_info": {
   "codemirror_mode": {
    "name": "ipython",
    "version": 3
   },
   "file_extension": ".py",
   "mimetype": "text/x-python",
   "name": "python",
   "nbconvert_exporter": "python",
   "pygments_lexer": "ipython3",
   "version": "3.7.9"
  }
 },
 "nbformat": 4,
 "nbformat_minor": 4
}
